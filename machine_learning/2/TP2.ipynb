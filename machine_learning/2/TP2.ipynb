{
 "cells": [
  {
   "cell_type": "markdown",
   "id": "9ef8a744",
   "metadata": {},
   "source": [
    "# APRAU: TP2\n",
    "  \n",
    "1. Generate an artificial dataset using a linear function with known parameters and some added noise.\n",
    "\n",
    "    - 1.1. Study the effect of the number of examples $N$ (from 2 to 200) and of noise dispersion on the coefficient estimates.\n",
    "        \n",
    "      - Are the estimates of the coefficients stable?\n",
    "    \n",
    "    - 1.2 Study the effect of $N$ on $R^2$ (R square).\n",
    "    \n",
    "    - 1.3 Increase the dispersion of the noise. \n",
    "    \n",
    "       - What is the effect on $R^2$?\n",
    "    \n",
    "    - 1.4 Produce plots with the variation of  $R^2$ and of the parameters with the number of examples (up to 5000) and with the dispersion of the noise (`sd` between 0 and 5).\n",
    "\n",
    "2. Generate datasets of 50 points with some relatively small noise where the true function is non-linear $y=\\alpha x^2 +3$. Study how R2 changes with $\\alpha$ taking 10 different values from $0.1$ to $10$. What do you conclude? \n",
    "\n",
    "3. Perform a similar study using a *random* function $f(x)$.\n",
    "\n",
    "4. Generate a dataset with 200 cases with the two input variables from above (one random and the other nonrandom) and an output variable having a linear relation (plus noise) with the nonrandom input variable.\n",
    "    - 4.1. Which coefficients do you get? \n",
    "    - 4.2. What are the p-values of the coefficients? \n",
    "    - 4.3. How do we interpret them?"
   ]
  }
 ],
 "metadata": {
  "kernelspec": {
   "display_name": "Python 3 (ipykernel)",
   "language": "python",
   "name": "python3"
  },
  "language_info": {
   "codemirror_mode": {
    "name": "ipython",
    "version": 3
   },
   "file_extension": ".py",
   "mimetype": "text/x-python",
   "name": "python",
   "nbconvert_exporter": "python",
   "pygments_lexer": "ipython3",
   "version": "3.11.4"
  }
 },
 "nbformat": 4,
 "nbformat_minor": 5
}
