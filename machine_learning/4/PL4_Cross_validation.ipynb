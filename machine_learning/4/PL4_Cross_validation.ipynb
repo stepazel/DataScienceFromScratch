{
 "cells": [
  {
   "cell_type": "markdown",
   "metadata": {
    "id": "xjn9704MSvPH"
   },
   "source": [
    "# PL 4- Classification with Cross Validation"
   ]
  },
  {
   "cell_type": "markdown",
   "metadata": {
    "id": "j7FOB9PuStbZ"
   },
   "source": [
    "In this class, we will explore the resampling techniques covered in the theoretical class of this week.\n",
    "\n",
    "We will use the MNIST dataset, and develop models studied so far.\n",
    "https://archive.ics.uci.edu/dataset/80/optical+recognition+of+handwritten+digits\n"
   ]
  },
  {
   "cell_type": "code",
   "execution_count": 3,
   "metadata": {
    "id": "ZZT5xmkRIVgF"
   },
   "outputs": [],
   "source": [
    "import matplotlib.pyplot as plt\n",
    "import numpy as np\n",
    "from sklearn.datasets import load_digits\n",
    "from sklearn.linear_model import LogisticRegression\n",
    "from sklearn.metrics import classification_report, confusion_matrix, mean_squared_error\n",
    "from sklearn.model_selection import train_test_split\n",
    "from sklearn.preprocessing import StandardScaler,PolynomialFeatures\n",
    "from sklearn.discriminant_analysis import LinearDiscriminantAnalysis as LDA\n",
    "from sklearn.discriminant_analysis import QuadraticDiscriminantAnalysis as QDA"
   ]
  },
  {
   "cell_type": "markdown",
   "metadata": {
    "id": "lCxh611pUshD"
   },
   "source": [
    "**Get the dataset**\n",
    "\n"
   ]
  },
  {
   "cell_type": "code",
   "execution_count": 2,
   "metadata": {
    "colab": {
     "base_uri": "https://localhost:8080/",
     "height": 227
    },
    "id": "Sxs25Hkm7p5c",
    "outputId": "d840ec35-e07e-4b49-cd78-55757987057d"
   },
   "outputs": [
    {
     "data": {
      "image/png": "[encoded data removed]",
      "text/plain": [
       "<Figure size 1000x300 with 4 Axes>"
      ]
     },
     "metadata": {},
     "output_type": "display_data"
    }
   ],
   "source": [
    "digits = load_digits()\n",
    "\n",
    "_, axes = plt.subplots(nrows=1, ncols=4, figsize=(10, 3))\n",
    "for ax, image, label in zip(axes, digits.images, digits.target):\n",
    "    ax.set_axis_off()\n",
    "    ax.imshow(image, cmap=plt.cm.gray_r, interpolation=\"nearest\")\n",
    "    ax.set_title(\"Training: %i\" % label)"
   ]
  },
  {
   "cell_type": "code",
   "execution_count": 5,
   "metadata": {
    "id": "8ksO6x6SIVnK"
   },
   "outputs": [],
   "source": [
    "#Separate into label and features\n",
    "\n",
    "x, y = load_digits(return_X_y=True)"
   ]
  },
  {
   "cell_type": "code",
   "execution_count": 4,
   "metadata": {
    "colab": {
     "base_uri": "https://localhost:8080/"
    },
    "id": "j--OpwBZIVqk",
    "outputId": "cfe3ad90-5d88-45f8-e8e5-7029c61b0ffa"
   },
   "outputs": [
    {
     "data": {
      "text/plain": [
       "array([[ 0.,  0.,  5., ...,  0.,  0.,  0.],\n",
       "       [ 0.,  0.,  0., ..., 10.,  0.,  0.],\n",
       "       [ 0.,  0.,  0., ..., 16.,  9.,  0.],\n",
       "       ...,\n",
       "       [ 0.,  0.,  1., ...,  6.,  0.,  0.],\n",
       "       [ 0.,  0.,  2., ..., 12.,  0.,  0.],\n",
       "       [ 0.,  0., 10., ..., 12.,  1.,  0.]])"
      ]
     },
     "execution_count": 4,
     "metadata": {},
     "output_type": "execute_result"
    }
   ],
   "source": [
    "x"
   ]
  },
  {
   "cell_type": "code",
   "execution_count": 5,
   "metadata": {
    "colab": {
     "base_uri": "https://localhost:8080/"
    },
    "id": "tN6YpgmyIVt7",
    "outputId": "30405741-a0e7-4619-dc58-5433900cf719"
   },
   "outputs": [
    {
     "data": {
      "text/plain": [
       "array([0, 1, 2, ..., 8, 9, 8])"
      ]
     },
     "execution_count": 5,
     "metadata": {},
     "output_type": "execute_result"
    }
   ],
   "source": [
    "y"
   ]
  },
  {
   "cell_type": "code",
   "execution_count": 8,
   "metadata": {
    "colab": {
     "base_uri": "https://localhost:8080/"
    },
    "id": "eN5WND2N8QQl",
    "outputId": "e5f16e36-ce1d-4f42-ed86-3c67f93286c1"
   },
   "outputs": [
    {
     "name": "stdout",
     "output_type": "stream",
     "text": [
      "(1797, 64)\n",
      "(1797,)\n"
     ]
    }
   ],
   "source": [
    "print(x.shape)\n",
    "print(y.shape)"
   ]
  },
  {
   "cell_type": "code",
   "execution_count": 9,
   "metadata": {},
   "outputs": [
    {
     "ename": "TypeError",
     "evalue": "'tuple' object is not callable",
     "output_type": "error",
     "traceback": [
      "\u001b[1;31m---------------------------------------------------------------------------\u001b[0m",
      "\u001b[1;31mTypeError\u001b[0m                                 Traceback (most recent call last)",
      "\u001b[1;32mc:\\Users\\Stepa\\PycharmProjects\\Erasmus\\machine_learning\\4\\PL4_Cross_validation.ipynb Cell 10\u001b[0m line \u001b[0;36m1\n\u001b[0;32m     <a href='vscode-notebook-cell:/c%3A/Users/Stepa/PycharmProjects/Erasmus/machine_learning/4/PL4_Cross_validation.ipynb#X14sZmlsZQ%3D%3D?line=10'>11</a>\u001b[0m poly \u001b[39m=\u001b[39m PolynomialFeatures(\u001b[39mint\u001b[39m(X[i,j]))\n\u001b[0;32m     <a href='vscode-notebook-cell:/c%3A/Users/Stepa/PycharmProjects/Erasmus/machine_learning/4/PL4_Cross_validation.ipynb#X14sZmlsZQ%3D%3D?line=11'>12</a>\u001b[0m X_poly \u001b[39m=\u001b[39m poly\u001b[39m.\u001b[39mfit_transform(x\u001b[39m.\u001b[39mreshape(\u001b[39m-\u001b[39m\u001b[39m1\u001b[39m,\u001b[39m1\u001b[39m))\n\u001b[1;32m---> <a href='vscode-notebook-cell:/c%3A/Users/Stepa/PycharmProjects/Erasmus/machine_learning/4/PL4_Cross_validation.ipynb#X14sZmlsZQ%3D%3D?line=12'>13</a>\u001b[0m \u001b[39mprint\u001b[39m(X_poly\u001b[39m.\u001b[39;49mshape())\n\u001b[0;32m     <a href='vscode-notebook-cell:/c%3A/Users/Stepa/PycharmProjects/Erasmus/machine_learning/4/PL4_Cross_validation.ipynb#X14sZmlsZQ%3D%3D?line=14'>15</a>\u001b[0m X_train, X_test, y_train, y_test \u001b[39m=\u001b[39m train_test_split(X_poly, y\u001b[39m.\u001b[39mravel(),\n\u001b[0;32m     <a href='vscode-notebook-cell:/c%3A/Users/Stepa/PycharmProjects/Erasmus/machine_learning/4/PL4_Cross_validation.ipynb#X14sZmlsZQ%3D%3D?line=15'>16</a>\u001b[0m                                                     test_size\u001b[39m=\u001b[39mt_prop, random_state\u001b[39m=\u001b[39mY[i,j])\n\u001b[0;32m     <a href='vscode-notebook-cell:/c%3A/Users/Stepa/PycharmProjects/Erasmus/machine_learning/4/PL4_Cross_validation.ipynb#X14sZmlsZQ%3D%3D?line=17'>18</a>\u001b[0m regr\u001b[39m.\u001b[39mfit(X_train, y_train)\n",
      "\u001b[1;31mTypeError\u001b[0m: 'tuple' object is not callable"
     ]
    }
   ],
   "source": [
    "# Validation set approach\n",
    "regr = LogisticRegression()\n",
    "t_prop = 0.5\n",
    "p_order = np.arange(1,11)\n",
    "r_state = np.arange(0,10)\n",
    "\n",
    "X, Y = np.meshgrid(p_order, r_state, indexing='ij')\n",
    "Z = np.zeros((p_order.size,r_state.size))\n",
    "\n",
    "for (i,j),v in np.ndenumerate(Z):\n",
    "    poly = PolynomialFeatures(int(X[i,j]))\n",
    "    X_poly = poly.fit_transform(x.reshape(-1,1))\n",
    "    \n",
    "    X_train, X_test, y_train, y_test = train_test_split(X_poly, y.ravel(),\n",
    "                                                        test_size=t_prop, random_state=Y[i,j])\n",
    "                                                                        \n",
    "    regr.fit(X_train, y_train)\n",
    "    pred = regr.predict(X_test)\n",
    "    Z[i,j]= mean_squared_error(y_test, pred)\n",
    "\n",
    "fig, (ax1, ax2) = plt.subplots(1,2, figsize=(10,4))\n",
    "\n",
    "# Left plot (first split)\n",
    "ax1.plot(X.T[0],Z.T[0], '-o')\n",
    "ax1.set_title('Random split of the data set')\n",
    "\n",
    "# Right plot (all splits)\n",
    "ax2.plot(X,Z)\n",
    "ax2.set_title('10 random splits of the data set')\n",
    "\n",
    "for ax in fig.axes:\n",
    "    ax.set_ylabel('Mean Squared Error')\n",
    "    ax.set_ylim(15,30)\n",
    "    ax.set_xlabel('Degree of Polynomial')\n",
    "    ax.set_xlim(0.5,10.5)\n",
    "    ax.set_xticks(range(2,11,2));"
   ]
  },
  {
   "cell_type": "markdown",
   "metadata": {
    "id": "wLCOdHEotn-g"
   },
   "source": [
    "## Class objectives:\n",
    "\n",
    "Implement the various cross validation approaches studied in the theoretical class:\n",
    "\n",
    "1.   The validation set approach\n",
    "2.   LOOCV - Leave one out cross validation\n",
    "3.   K-fold Cross Validation\n",
    "4.   Cross Validation Stratified\n",
    "\n",
    "\n",
    "To test the various approaches you can use the Logistic Regression Model.\n"
   ]
  },
  {
   "cell_type": "markdown",
   "metadata": {
    "id": "mHVqKkbxvUTf"
   },
   "source": [
    "You must evaluate the resampling methods tested, justifying the results obtained, specifying the advantages and disadvantages of each other.\n",
    "\n",
    "In the case of K-fold cross validation, several values of K must be tested and check how this parameter influences the results.\n",
    "\n",
    "After applying Logistic Regression, you can apply LDA and check if your conclusions hold."
   ]
  }
 ],
 "metadata": {
  "colab": {
   "provenance": []
  },
  "kernelspec": {
   "display_name": "Python 3 (ipykernel)",
   "language": "python",
   "name": "python3"
  },
  "language_info": {
   "codemirror_mode": {
    "name": "ipython",
    "version": 3
   },
   "file_extension": ".py",
   "mimetype": "text/x-python",
   "name": "python",
   "nbconvert_exporter": "python",
   "pygments_lexer": "ipython3",
   "version": "3.11.5"
  }
 },
 "nbformat": 4,
 "nbformat_minor": 1
}
