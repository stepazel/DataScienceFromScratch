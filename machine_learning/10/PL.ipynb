{
  "nbformat": 4,
  "nbformat_minor": 0,
  "metadata": {
    "colab": {
      "provenance": []
    },
    "kernelspec": {
      "name": "python3",
      "display_name": "Python 3"
    },
    "language_info": {
      "name": "python"
    }
  },
  "cells": [
    {
      "cell_type": "markdown",
      "source": [
        "#**SVM with MNIST**"
      ],
      "metadata": {
        "id": "R8qPAEBFh2g7"
      }
    },
    {
      "cell_type": "markdown",
      "source": [
        "Code addapted from:\n",
        "\n",
        "https://dmkothari.github.io/Machine-Learning-Projects/SVM_with_MNIST.html"
      ],
      "metadata": {
        "id": "hxb2VMgziBnA"
      }
    },
    {
      "cell_type": "markdown",
      "source": [
        "**Question:**\n",
        "\n",
        "Describe how the multi-class classification is different for SVC and LinearSVC. Be explicit, don't just describe what's in the documentation. For example, what does 'one-against-one' and 'one-vs-the-rest' mean?"
      ],
      "metadata": {
        "id": "ks_DmvjAhzrj"
      }
    },
    {
      "cell_type": "markdown",
      "source": [
        "**Importing the packages and the dataset**"
      ],
      "metadata": {
        "id": "pXH0NhTOia-1"
      }
    },
    {
      "cell_type": "code",
      "execution_count": 1,
      "metadata": {
        "id": "mQj871eFUKHP"
      },
      "outputs": [],
      "source": [
        "from scipy.stats import mode\n",
        "import numpy as np\n",
        "#from mnist import MNIST\n",
        "from time import time\n",
        "import pandas as pd\n",
        "import os\n",
        "import matplotlib.pyplot as matplot\n",
        "import matplotlib\n",
        "%matplotlib inline\n",
        "\n",
        "import random\n",
        "matplot.rcdefaults()\n",
        "from IPython.display import display, HTML\n",
        "from itertools import chain\n",
        "from sklearn.metrics import confusion_matrix\n",
        "from sklearn.metrics import accuracy_score\n",
        "import seaborn as sb\n",
        "from sklearn.model_selection import ParameterGrid\n",
        "from sklearn.svm import SVC, LinearSVC\n",
        "import warnings\n",
        "warnings.filterwarnings('ignore')"
      ]
    },
    {
      "cell_type": "code",
      "source": [
        "from sklearn.datasets import fetch_openml\n",
        "from sklearn.model_selection import train_test_split\n",
        "import numpy as np\n",
        "import matplotlib.pyplot as plt"
      ],
      "metadata": {
        "id": "727HTUAkbn_C"
      },
      "execution_count": 2,
      "outputs": []
    },
    {
      "cell_type": "code",
      "source": [
        "mnist = fetch_openml('mnist_784', as_frame=False, cache=False)"
      ],
      "metadata": {
        "id": "3viXUz-xboB7"
      },
      "execution_count": 3,
      "outputs": []
    },
    {
      "cell_type": "code",
      "source": [
        "mnist.data.shape"
      ],
      "metadata": {
        "colab": {
          "base_uri": "https://localhost:8080/"
        },
        "id": "iiE6pjQ1boMh",
        "outputId": "e189eea4-d279-475c-930f-e05c8fd6f2cd"
      },
      "execution_count": 4,
      "outputs": [
        {
          "output_type": "execute_result",
          "data": {
            "text/plain": [
              "(70000, 784)"
            ]
          },
          "metadata": {},
          "execution_count": 4
        }
      ]
    },
    {
      "cell_type": "code",
      "source": [
        "X = mnist.data.astype('float32')\n",
        "y = mnist.target.astype('int64')"
      ],
      "metadata": {
        "id": "gYbnLaF2boPh"
      },
      "execution_count": 5,
      "outputs": []
    },
    {
      "cell_type": "code",
      "source": [
        "X /= 255.0"
      ],
      "metadata": {
        "id": "O1VQ-0okboSy"
      },
      "execution_count": 6,
      "outputs": []
    },
    {
      "cell_type": "code",
      "source": [
        "X.min(), X.max()"
      ],
      "metadata": {
        "colab": {
          "base_uri": "https://localhost:8080/"
        },
        "id": "EyFegIyWboVh",
        "outputId": "4c3ab1eb-3680-4419-8861-5cf8e5a4b955"
      },
      "execution_count": null,
      "outputs": [
        {
          "output_type": "execute_result",
          "data": {
            "text/plain": [
              "(0.0, 1.0)"
            ]
          },
          "metadata": {},
          "execution_count": 7
        }
      ]
    },
    {
      "cell_type": "code",
      "source": [
        "X_train, X_test, y_train, y_test = train_test_split(X, y, test_size=0.25, random_state=42)"
      ],
      "metadata": {
        "id": "qpTwLbnaboY6"
      },
      "execution_count": 7,
      "outputs": []
    },
    {
      "cell_type": "code",
      "source": [
        "assert(X_train.shape[0] + X_test.shape[0] == mnist.data.shape[0])"
      ],
      "metadata": {
        "id": "PaDbdsyGboby"
      },
      "execution_count": 8,
      "outputs": []
    },
    {
      "cell_type": "code",
      "source": [
        "X_train.shape, y_train.shape"
      ],
      "metadata": {
        "colab": {
          "base_uri": "https://localhost:8080/"
        },
        "id": "UmkFX3-0boex",
        "outputId": "aee46318-1f0d-46e9-93b3-425c136797e9"
      },
      "execution_count": 9,
      "outputs": [
        {
          "output_type": "execute_result",
          "data": {
            "text/plain": [
              "((52500, 784), (52500,))"
            ]
          },
          "metadata": {},
          "execution_count": 9
        }
      ]
    },
    {
      "cell_type": "code",
      "source": [
        "X_test.shape, y_test.shape"
      ],
      "metadata": {
        "colab": {
          "base_uri": "https://localhost:8080/"
        },
        "id": "Tc4g9-Yrdq0v",
        "outputId": "f85155e6-9a77-4649-de40-288bb0794445"
      },
      "execution_count": 25,
      "outputs": [
        {
          "output_type": "execute_result",
          "data": {
            "text/plain": [
              "((17500, 784), (17500,))"
            ]
          },
          "metadata": {},
          "execution_count": 25
        }
      ]
    },
    {
      "cell_type": "code",
      "source": [
        "def plot_example(X, y):\n",
        "    \"\"\"Plot the first 5 images and their labels in a row.\"\"\"\n",
        "    for i, (img, y) in enumerate(zip(X[:5].reshape(5, 28, 28), y[:5])):\n",
        "        plt.subplot(151 + i)\n",
        "        plt.imshow(img)\n",
        "        plt.xticks([])\n",
        "        plt.yticks([])\n",
        "        plt.title(y)"
      ],
      "metadata": {
        "id": "ARsTK_2kd0ZK"
      },
      "execution_count": 10,
      "outputs": []
    },
    {
      "cell_type": "code",
      "source": [
        "plot_example(X_train, y_train)"
      ],
      "metadata": {
        "colab": {
          "base_uri": "https://localhost:8080/",
          "height": 144
        },
        "id": "4yO5ObTad0cc",
        "outputId": "ddb6fd57-60dd-4c9f-9828-bd2e60dda01a"
      },
      "execution_count": 11,
      "outputs": [
        {
          "output_type": "display_data",
          "data": {
            "text/plain": [
              "<Figure size 640x480 with 5 Axes>"
            ],
            "image/png": "[encoded data removed]"
          },
          "metadata": {}
        }
      ]
    },
    {
      "cell_type": "markdown",
      "source": [
        "**Linear SVC**\n",
        "\n",
        "Running a Sample Linear SVM classifier on default values to see how the model does on MNIST data"
      ],
      "metadata": {
        "id": "2VMd5Jaaeeep"
      }
    },
    {
      "cell_type": "code",
      "source": [
        "svm = LinearSVC(dual=False)"
      ],
      "metadata": {
        "id": "bOzr8YVid0fN"
      },
      "execution_count": 12,
      "outputs": []
    },
    {
      "cell_type": "code",
      "source": [
        "svm.fit(X_train, y_train)"
      ],
      "metadata": {
        "colab": {
          "base_uri": "https://localhost:8080/",
          "height": 75
        },
        "id": "-qDimKfgd0iD",
        "outputId": "f39f0290-e054-4e7a-e20b-23685270e832"
      },
      "execution_count": 13,
      "outputs": [
        {
          "output_type": "execute_result",
          "data": {
            "text/plain": [
              "LinearSVC(dual=False)"
            ],
            "text/html": [
              "<style>#sk-container-id-1 {color: black;background-color: white;}#sk-container-id-1 pre{padding: 0;}#sk-container-id-1 div.sk-toggleable {background-color: white;}#sk-container-id-1 label.sk-toggleable__label {cursor: pointer;display: block;width: 100%;margin-bottom: 0;padding: 0.3em;box-sizing: border-box;text-align: center;}#sk-container-id-1 label.sk-toggleable__label-arrow:before {content: \"▸\";float: left;margin-right: 0.25em;color: #696969;}#sk-container-id-1 label.sk-toggleable__label-arrow:hover:before {color: black;}#sk-container-id-1 div.sk-estimator:hover label.sk-toggleable__label-arrow:before {color: black;}#sk-container-id-1 div.sk-toggleable__content {max-height: 0;max-width: 0;overflow: hidden;text-align: left;background-color: #f0f8ff;}#sk-container-id-1 div.sk-toggleable__content pre {margin: 0.2em;color: black;border-radius: 0.25em;background-color: #f0f8ff;}#sk-container-id-1 input.sk-toggleable__control:checked~div.sk-toggleable__content {max-height: 200px;max-width: 100%;overflow: auto;}#sk-container-id-1 input.sk-toggleable__control:checked~label.sk-toggleable__label-arrow:before {content: \"▾\";}#sk-container-id-1 div.sk-estimator input.sk-toggleable__control:checked~label.sk-toggleable__label {background-color: #d4ebff;}#sk-container-id-1 div.sk-label input.sk-toggleable__control:checked~label.sk-toggleable__label {background-color: #d4ebff;}#sk-container-id-1 input.sk-hidden--visually {border: 0;clip: rect(1px 1px 1px 1px);clip: rect(1px, 1px, 1px, 1px);height: 1px;margin: -1px;overflow: hidden;padding: 0;position: absolute;width: 1px;}#sk-container-id-1 div.sk-estimator {font-family: monospace;background-color: #f0f8ff;border: 1px dotted black;border-radius: 0.25em;box-sizing: border-box;margin-bottom: 0.5em;}#sk-container-id-1 div.sk-estimator:hover {background-color: #d4ebff;}#sk-container-id-1 div.sk-parallel-item::after {content: \"\";width: 100%;border-bottom: 1px solid gray;flex-grow: 1;}#sk-container-id-1 div.sk-label:hover label.sk-toggleable__label {background-color: #d4ebff;}#sk-container-id-1 div.sk-serial::before {content: \"\";position: absolute;border-left: 1px solid gray;box-sizing: border-box;top: 0;bottom: 0;left: 50%;z-index: 0;}#sk-container-id-1 div.sk-serial {display: flex;flex-direction: column;align-items: center;background-color: white;padding-right: 0.2em;padding-left: 0.2em;position: relative;}#sk-container-id-1 div.sk-item {position: relative;z-index: 1;}#sk-container-id-1 div.sk-parallel {display: flex;align-items: stretch;justify-content: center;background-color: white;position: relative;}#sk-container-id-1 div.sk-item::before, #sk-container-id-1 div.sk-parallel-item::before {content: \"\";position: absolute;border-left: 1px solid gray;box-sizing: border-box;top: 0;bottom: 0;left: 50%;z-index: -1;}#sk-container-id-1 div.sk-parallel-item {display: flex;flex-direction: column;z-index: 1;position: relative;background-color: white;}#sk-container-id-1 div.sk-parallel-item:first-child::after {align-self: flex-end;width: 50%;}#sk-container-id-1 div.sk-parallel-item:last-child::after {align-self: flex-start;width: 50%;}#sk-container-id-1 div.sk-parallel-item:only-child::after {width: 0;}#sk-container-id-1 div.sk-dashed-wrapped {border: 1px dashed gray;margin: 0 0.4em 0.5em 0.4em;box-sizing: border-box;padding-bottom: 0.4em;background-color: white;}#sk-container-id-1 div.sk-label label {font-family: monospace;font-weight: bold;display: inline-block;line-height: 1.2em;}#sk-container-id-1 div.sk-label-container {text-align: center;}#sk-container-id-1 div.sk-container {/* jupyter's `normalize.less` sets `[hidden] { display: none; }` but bootstrap.min.css set `[hidden] { display: none !important; }` so we also need the `!important` here to be able to override the default hidden behavior on the sphinx rendered scikit-learn.org. See: https://github.com/scikit-learn/scikit-learn/issues/21755 */display: inline-block !important;position: relative;}#sk-container-id-1 div.sk-text-repr-fallback {display: none;}</style><div id=\"sk-container-id-1\" class=\"sk-top-container\"><div class=\"sk-text-repr-fallback\"><pre>LinearSVC(dual=False)</pre><b>In a Jupyter environment, please rerun this cell to show the HTML representation or trust the notebook. <br />On GitHub, the HTML representation is unable to render, please try loading this page with nbviewer.org.</b></div><div class=\"sk-container\" hidden><div class=\"sk-item\"><div class=\"sk-estimator sk-toggleable\"><input class=\"sk-toggleable__control sk-hidden--visually\" id=\"sk-estimator-id-1\" type=\"checkbox\" checked><label for=\"sk-estimator-id-1\" class=\"sk-toggleable__label sk-toggleable__label-arrow\">LinearSVC</label><div class=\"sk-toggleable__content\"><pre>LinearSVC(dual=False)</pre></div></div></div></div></div>"
            ]
          },
          "metadata": {},
          "execution_count": 13
        }
      ]
    },
    {
      "cell_type": "code",
      "source": [
        "svm.coef_\n",
        "svm.intercept_"
      ],
      "metadata": {
        "colab": {
          "base_uri": "https://localhost:8080/"
        },
        "id": "TS6cM-VCd0kq",
        "outputId": "e9a44ea0-343e-4177-888c-da51ad060000"
      },
      "execution_count": 14,
      "outputs": [
        {
          "output_type": "execute_result",
          "data": {
            "text/plain": [
              "array([-1.11196454, -0.16630634, -0.84287183, -1.22447961, -0.50720558,\n",
              "        0.0274873 , -1.12822255, -0.25532382, -2.13919819, -1.32314682])"
            ]
          },
          "metadata": {},
          "execution_count": 14
        }
      ]
    },
    {
      "cell_type": "code",
      "source": [
        "pred = svm.predict(X_test)"
      ],
      "metadata": {
        "id": "WkpIe0MPd0ni"
      },
      "execution_count": 15,
      "outputs": []
    },
    {
      "cell_type": "code",
      "source": [
        "accuracy_score(y_test, pred)"
      ],
      "metadata": {
        "colab": {
          "base_uri": "https://localhost:8080/"
        },
        "id": "b2mggPznd0qi",
        "outputId": "5d1235ee-b500-4183-9fa2-5fc276fb67da"
      },
      "execution_count": 16,
      "outputs": [
        {
          "output_type": "execute_result",
          "data": {
            "text/plain": [
              "0.9140571428571429"
            ]
          },
          "metadata": {},
          "execution_count": 16
        }
      ]
    },
    {
      "cell_type": "code",
      "source": [
        "cm = confusion_matrix(y_test, pred)\n",
        "matplot.subplots(figsize=(10, 6))\n",
        "sb.heatmap(cm, annot = True, fmt = 'g')\n",
        "matplot.xlabel(\"Predicted\")\n",
        "matplot.ylabel(\"Actual\")\n",
        "matplot.title(\"Confusion Matrix\")\n",
        "matplot.show()\n",
        "\n"
      ],
      "metadata": {
        "colab": {
          "base_uri": "https://localhost:8080/",
          "height": 564
        },
        "id": "rlmmlTIod0tq",
        "outputId": "ab81a8fe-bf3d-443f-db11-507de220d86f"
      },
      "execution_count": 17,
      "outputs": [
        {
          "output_type": "display_data",
          "data": {
            "text/plain": [
              "<Figure size 1000x600 with 2 Axes>"
            ],
            "image/png": "[encoded data removed]"
          },
          "metadata": {}
        }
      ]
    },
    {
      "cell_type": "markdown",
      "source": [
        "As we can see that the SVM does a pretty decent job at classifying, we still get the usual misclassification on 5-8, 2-8, 5-3, 4-9. However, accuracy of 91.82% is good"
      ],
      "metadata": {
        "id": "nAZyaDarixq3"
      }
    },
    {
      "cell_type": "markdown",
      "source": [
        "**Running Linear SVC for multiple cost factor(s) C**"
      ],
      "metadata": {
        "id": "2QKhydHEfGrH"
      }
    },
    {
      "cell_type": "code",
      "source": [
        "acc = []\n",
        "acc_tr = []\n",
        "coefficient = []\n",
        "for c in [0.001,0.01,0.1,1,10,100]:\n",
        "    svm = LinearSVC(dual=False, C=c)\n",
        "    svm.fit(X_train, y_train)\n",
        "    coef = svm.coef_\n",
        "\n",
        "    p_tr = svm.predict(X_train)\n",
        "    a_tr = accuracy_score(y_train, p_tr)\n",
        "\n",
        "    pred = svm.predict(X_test)\n",
        "    a = accuracy_score(y_test, pred)\n",
        "\n",
        "    coefficient.append(coef)\n",
        "    acc_tr.append(a_tr)\n",
        "    acc.append(a)"
      ],
      "metadata": {
        "id": "LOUb-3Vbd0wj"
      },
      "execution_count": 18,
      "outputs": []
    },
    {
      "cell_type": "code",
      "source": [
        "c = [0.001,0.01,0.1,1,10,100]\n",
        "\n",
        "matplot.subplots(figsize=(10, 5))\n",
        "matplot.semilogx(c, acc,'-gD' ,color='red' , label=\"Testing Accuracy\")\n",
        "matplot.semilogx(c, acc_tr,'-gD' , label=\"Training Accuracy\")\n",
        "#matplot.xticks(L,L)\n",
        "matplot.grid(True)\n",
        "matplot.xlabel(\"Cost Parameter C\")\n",
        "matplot.ylabel(\"Accuracy\")\n",
        "matplot.legend()\n",
        "matplot.title('Accuracy versus the Cost Parameter C (log-scale)')\n",
        "matplot.show()"
      ],
      "metadata": {
        "colab": {
          "base_uri": "https://localhost:8080/",
          "height": 492
        },
        "id": "IESBR58qd01T",
        "outputId": "14ed3634-f6d8-4c73-f442-45c617147d53"
      },
      "execution_count": 19,
      "outputs": [
        {
          "output_type": "display_data",
          "data": {
            "text/plain": [
              "<Figure size 1000x500 with 1 Axes>"
            ],
            "image/png": "[encoded data removed]"
          },
          "metadata": {}
        }
      ]
    },
    {
      "cell_type": "markdown",
      "source": [
        "We clearly see a bias variance trade off in the graph. As the cost increases, the Training accuracy increases, so as the test accuracy, but only till c=1, then we see overfitting. From, c=10 to 1000 we see the model overfitting and we see Low Bias and High Variance.\n",
        "So as we go from Left to Right: Bias Decreases and Variance Increases"
      ],
      "metadata": {
        "id": "lTcWEUuFi4GA"
      }
    },
    {
      "cell_type": "markdown",
      "source": [
        "**Choose the model with best testing accuracy i.e. c = 1**"
      ],
      "metadata": {
        "id": "hKTknBHaf4O0"
      }
    },
    {
      "cell_type": "code",
      "source": [
        "svm_coef = coefficient[3]\n",
        "svm_coef.shape"
      ],
      "metadata": {
        "colab": {
          "base_uri": "https://localhost:8080/"
        },
        "id": "2if0rC_ofjhY",
        "outputId": "6faf8f4a-9a5e-4ad8-9f5f-1246f1b6ae09"
      },
      "execution_count": 20,
      "outputs": [
        {
          "output_type": "execute_result",
          "data": {
            "text/plain": [
              "(10, 784)"
            ]
          },
          "metadata": {},
          "execution_count": 20
        }
      ]
    },
    {
      "cell_type": "code",
      "source": [
        "matplot.subplots(2,5, figsize=(24,10))\n",
        "for i in range(10):\n",
        "    l1 = matplot.subplot(2, 5, i + 1)\n",
        "    l1.imshow(svm_coef[i].reshape(28, 28), cmap=matplot.cm.RdBu)\n",
        "    l1.set_xticks(())\n",
        "    l1.set_yticks(())\n",
        "    l1.set_xlabel('Class %i' % i)\n",
        "matplot.suptitle('Class Coefficients')\n",
        "matplot.show()"
      ],
      "metadata": {
        "id": "hTVb5XxGjEHk"
      },
      "execution_count": null,
      "outputs": []
    },
    {
      "cell_type": "markdown",
      "source": [
        "**Linear SVC with Penalty: l1**\n",
        "\n"
      ],
      "metadata": {
        "id": "rLuNCdK7gGeR"
      }
    },
    {
      "cell_type": "code",
      "source": [
        "acc = []\n",
        "acc_tr = []\n",
        "coefficient = []\n",
        "for c in [0.001,0.01,0.1,1,10,100]:\n",
        "    svm = LinearSVC(dual=False, C=c, penalty='l1')\n",
        "    svm.fit(X_train, y_train)\n",
        "    coef = svm.coef_\n",
        "\n",
        "    p_tr = svm.predict(X_train)\n",
        "    a_tr = accuracy_score(y_train, p_tr)\n",
        "\n",
        "    pred = svm.predict(X_test)\n",
        "    a = accuracy_score(y_test, pred)\n",
        "\n",
        "    coefficient.append(coef)\n",
        "    acc_tr.append(a_tr)\n",
        "    acc.append(a)"
      ],
      "metadata": {
        "id": "ZgBCxfbEfjkU"
      },
      "execution_count": 21,
      "outputs": []
    },
    {
      "cell_type": "code",
      "source": [
        "c = [0.001,0.01,0.1,1,10,100]\n",
        "\n",
        "matplot.subplots(figsize=(10, 5))\n",
        "matplot.semilogx(c, acc,'-gD' ,color='red' , label=\"Testing Accuracy\")\n",
        "matplot.semilogx(c, acc_tr,'-gD' , label=\"Training Accuracy\")\n",
        "#matplot.xticks(L,L)\n",
        "matplot.grid(True)\n",
        "matplot.xlabel(\"Cost Parameter C\")\n",
        "matplot.ylabel(\"Accuracy\")\n",
        "matplot.legend()\n",
        "matplot.title('Accuracy versus the Cost Parameter C (log-scale)')\n",
        "matplot.show()"
      ],
      "metadata": {
        "id": "fRL3lfc-fjnV",
        "colab": {
          "base_uri": "https://localhost:8080/",
          "height": 492
        },
        "outputId": "c11df293-1b23-42ee-81b6-54d8f634d752"
      },
      "execution_count": 22,
      "outputs": [
        {
          "output_type": "display_data",
          "data": {
            "text/plain": [
              "<Figure size 1000x500 with 1 Axes>"
            ],
            "image/png": "[encoded data removed]"
          },
          "metadata": {}
        }
      ]
    },
    {
      "cell_type": "markdown",
      "source": [
        "Exact same thing with just a slight difference is clearly observed here as well. We see a bias variance trade off in the graph. As the cost increases, the Training accuracy increases, so as the test accuracy, but only till c=1, then we see overfitting. From, c=10 to 1000 we see the model overfitting and we see Low Bias and High Variance. Only thing is with L1 Penalty we have a lesser effect of overfitting and the model performs really poorly with lesser cost values.\n",
        "Again, as we go from Left to Right: Bias Decreases and Variance Increases"
      ],
      "metadata": {
        "id": "Kqr8h9tHjKaX"
      }
    },
    {
      "cell_type": "markdown",
      "source": [
        "**choose the model with best testing accuracy i.e. c = 1**"
      ],
      "metadata": {
        "id": "bunrNMUxgpvg"
      }
    },
    {
      "cell_type": "code",
      "source": [
        "svm_coef = coefficient[4]\n",
        "svm_coef.shape"
      ],
      "metadata": {
        "id": "9tCbo_5ifjqG",
        "colab": {
          "base_uri": "https://localhost:8080/"
        },
        "outputId": "e56ef71a-a08e-453f-e6a7-c20ecd08fbac"
      },
      "execution_count": 23,
      "outputs": [
        {
          "output_type": "execute_result",
          "data": {
            "text/plain": [
              "(10, 784)"
            ]
          },
          "metadata": {},
          "execution_count": 23
        }
      ]
    },
    {
      "cell_type": "code",
      "source": [
        "matplot.subplots(2,5, figsize=(24,10))\n",
        "for i in range(10):\n",
        "    l1 = matplot.subplot(2, 5, i + 1)\n",
        "    l1.imshow(svm_coef[i].reshape(28, 28), cmap=matplot.cm.RdBu)\n",
        "    l1.set_xticks(())\n",
        "    l1.set_yticks(())\n",
        "    l1.set_xlabel('Class %i' % i)\n",
        "matplot.suptitle('Class Coefficients')\n",
        "matplot.show()"
      ],
      "metadata": {
        "id": "4I7kaMufjeOH"
      },
      "execution_count": null,
      "outputs": []
    },
    {
      "cell_type": "markdown",
      "source": [
        "**SVC RBF kernel**"
      ],
      "metadata": {
        "id": "LyRMt2p3g_iM"
      }
    },
    {
      "cell_type": "code",
      "source": [
        "\n",
        "\n",
        "from scipy.stats import mode\n",
        "import numpy as np\n",
        "from time import time\n",
        "import pandas as pd\n",
        "import os\n",
        "import matplotlib.pyplot as matplot\n",
        "import matplotlib\n",
        "%matplotlib inline\n",
        "\n",
        "import random\n",
        "matplot.rcdefaults()\n",
        "from IPython.display import display, HTML\n",
        "from itertools import chain\n",
        "from sklearn.metrics import confusion_matrix\n",
        "from sklearn.metrics import accuracy_score\n",
        "import seaborn as sb\n",
        "from sklearn.model_selection import ParameterGrid\n",
        "from sklearn.svm import SVC, LinearSVC\n",
        "import warnings\n",
        "warnings.filterwarnings('ignore')"
      ],
      "metadata": {
        "id": "xtyt0fCHfjtF"
      },
      "execution_count": 24,
      "outputs": []
    },
    {
      "cell_type": "markdown",
      "source": [
        "**We generate a random sample of the data and check how the distribution is compared to the original distribution**\n",
        "\n",
        "We choose sampling as running these many models would increase the time complexity as well. SO keeping time constraint in mind I sample 10% of the data."
      ],
      "metadata": {
        "id": "7ygLHvsij5hK"
      }
    },
    {
      "cell_type": "code",
      "source": [
        "seq = np.random.randint(0,52500,5250)\n",
        "train_samp_x = X_train[seq]\n",
        "train_samp_y = y_train[seq]\n",
        "\n",
        "train_samp_x.shape, train_samp_y.shape"
      ],
      "metadata": {
        "id": "84DzeUAnfjxD",
        "colab": {
          "base_uri": "https://localhost:8080/"
        },
        "outputId": "1468c8b9-ff89-401b-d7e1-e3503b0f8b6f"
      },
      "execution_count": 30,
      "outputs": [
        {
          "output_type": "execute_result",
          "data": {
            "text/plain": [
              "((6000, 784), (6000,))"
            ]
          },
          "metadata": {},
          "execution_count": 30
        }
      ]
    },
    {
      "cell_type": "code",
      "source": [
        "seq = np.random.randint(0,17500,1750)\n",
        "test_samp_x = X_test[seq]\n",
        "test_samp_y = y_test[seq]\n",
        "\n",
        "test_samp_x.shape, test_samp_y.shape"
      ],
      "metadata": {
        "id": "uPqbUXEafj2N",
        "colab": {
          "base_uri": "https://localhost:8080/"
        },
        "outputId": "9d066528-bc78-417f-92de-2a0f48e5bcaa"
      },
      "execution_count": 31,
      "outputs": [
        {
          "output_type": "execute_result",
          "data": {
            "text/plain": [
              "((1000, 784), (1000,))"
            ]
          },
          "metadata": {},
          "execution_count": 31
        }
      ]
    },
    {
      "cell_type": "code",
      "source": [
        "fig, ax = matplot.subplots(1,2, figsize=(10,4))\n",
        "ax[0].hist(train_samp_y)\n",
        "ax[1].hist(y_train)\n",
        "fig.show\n",
        "matplot.show()"
      ],
      "metadata": {
        "id": "rRgrCc3ehRH-",
        "colab": {
          "base_uri": "https://localhost:8080/",
          "height": 369
        },
        "outputId": "4981646a-6286-4792-8085-5ee36666edd7"
      },
      "execution_count": 32,
      "outputs": [
        {
          "output_type": "display_data",
          "data": {
            "text/plain": [
              "<Figure size 1000x400 with 2 Axes>"
            ],
            "image/png": "[encoded data removed]"
          },
          "metadata": {}
        }
      ]
    },
    {
      "cell_type": "markdown",
      "source": [
        "**Running SVC for multiple cost factor(s) C and Gamma**"
      ],
      "metadata": {
        "id": "4hXBmluMhkN1"
      }
    },
    {
      "cell_type": "code",
      "source": [
        "coefficient = []\n",
        "n_supp = []\n",
        "sup_vec = []\n",
        "i = 0\n",
        "df = pd.DataFrame(columns = ['c','gamma','train_acc','test_acc'])\n",
        "for c in [0.01, 0.1, 1, 10]:\n",
        "    for g in [0.01, 0.1, 1, 10, 100]:\n",
        "        svm = SVC(kernel='rbf', C=c, gamma=g)\n",
        "        model = svm.fit(train_samp_x, train_samp_y)\n",
        "        globals()['model%s' % i] = model\n",
        "        d_coef = svm.dual_coef_\n",
        "        support = svm.n_support_\n",
        "        sv = svm.support_\n",
        "\n",
        "        p_tr = svm.predict(train_samp_x)\n",
        "        a_tr = accuracy_score(train_samp_y, p_tr)\n",
        "\n",
        "        pred = svm.predict(test_samp_x)\n",
        "        a = accuracy_score(test_samp_y, pred)\n",
        "\n",
        "        coefficient.append(d_coef)\n",
        "        n_supp.append(support)\n",
        "        sup_vec.append(sv)\n",
        "        df.loc[i] = [c,g,a_tr,a]\n",
        "        i=i+1"
      ],
      "metadata": {
        "id": "6pwzc1o3hRK8"
      },
      "execution_count": 33,
      "outputs": []
    },
    {
      "cell_type": "code",
      "source": [
        "df"
      ],
      "metadata": {
        "id": "OhM7lleQhRNs",
        "colab": {
          "base_uri": "https://localhost:8080/",
          "height": 551
        },
        "outputId": "511cb088-6dfe-4f77-b240-5e28d44faae8"
      },
      "execution_count": 34,
      "outputs": [
        {
          "output_type": "execute_result",
          "data": {
            "text/plain": [
              "        c  gamma  train_acc  test_acc\n",
              "0    0.01   0.01   0.674833     0.653\n",
              "1    0.01   0.10   0.112667     0.112\n",
              "2    0.01   1.00   0.112667     0.112\n",
              "3    0.01  10.00   0.112667     0.112\n",
              "4    0.10   0.01   0.920333     0.908\n",
              "5    0.10   0.10   0.260000     0.243\n",
              "6    0.10   1.00   0.112667     0.112\n",
              "7    0.10  10.00   0.112667     0.112\n",
              "8    1.00   0.01   0.977167     0.949\n",
              "9    1.00   0.10   1.000000     0.842\n",
              "10   1.00   1.00   1.000000     0.112\n",
              "11   1.00  10.00   1.000000     0.112\n",
              "12  10.00   0.01   1.000000     0.952\n",
              "13  10.00   0.10   1.000000     0.855\n",
              "14  10.00   1.00   1.000000     0.112\n",
              "15  10.00  10.00   1.000000     0.112"
            ],
            "text/html": [
              "\n",
              "  <div id=\"df-6d19fcde-461d-406f-9667-483ec4484cb5\" class=\"colab-df-container\">\n",
              "    <div>\n",
              "<style scoped>\n",
              "    .dataframe tbody tr th:only-of-type {\n",
              "        vertical-align: middle;\n",
              "    }\n",
              "\n",
              "    .dataframe tbody tr th {\n",
              "        vertical-align: top;\n",
              "    }\n",
              "\n",
              "    .dataframe thead th {\n",
              "        text-align: right;\n",
              "    }\n",
              "</style>\n",
              "<table border=\"1\" class=\"dataframe\">\n",
              "  <thead>\n",
              "    <tr style=\"text-align: right;\">\n",
              "      <th></th>\n",
              "      <th>c</th>\n",
              "      <th>gamma</th>\n",
              "      <th>train_acc</th>\n",
              "      <th>test_acc</th>\n",
              "    </tr>\n",
              "  </thead>\n",
              "  <tbody>\n",
              "    <tr>\n",
              "      <th>0</th>\n",
              "      <td>0.01</td>\n",
              "      <td>0.01</td>\n",
              "      <td>0.674833</td>\n",
              "      <td>0.653</td>\n",
              "    </tr>\n",
              "    <tr>\n",
              "      <th>1</th>\n",
              "      <td>0.01</td>\n",
              "      <td>0.10</td>\n",
              "      <td>0.112667</td>\n",
              "      <td>0.112</td>\n",
              "    </tr>\n",
              "    <tr>\n",
              "      <th>2</th>\n",
              "      <td>0.01</td>\n",
              "      <td>1.00</td>\n",
              "      <td>0.112667</td>\n",
              "      <td>0.112</td>\n",
              "    </tr>\n",
              "    <tr>\n",
              "      <th>3</th>\n",
              "      <td>0.01</td>\n",
              "      <td>10.00</td>\n",
              "      <td>0.112667</td>\n",
              "      <td>0.112</td>\n",
              "    </tr>\n",
              "    <tr>\n",
              "      <th>4</th>\n",
              "      <td>0.10</td>\n",
              "      <td>0.01</td>\n",
              "      <td>0.920333</td>\n",
              "      <td>0.908</td>\n",
              "    </tr>\n",
              "    <tr>\n",
              "      <th>5</th>\n",
              "      <td>0.10</td>\n",
              "      <td>0.10</td>\n",
              "      <td>0.260000</td>\n",
              "      <td>0.243</td>\n",
              "    </tr>\n",
              "    <tr>\n",
              "      <th>6</th>\n",
              "      <td>0.10</td>\n",
              "      <td>1.00</td>\n",
              "      <td>0.112667</td>\n",
              "      <td>0.112</td>\n",
              "    </tr>\n",
              "    <tr>\n",
              "      <th>7</th>\n",
              "      <td>0.10</td>\n",
              "      <td>10.00</td>\n",
              "      <td>0.112667</td>\n",
              "      <td>0.112</td>\n",
              "    </tr>\n",
              "    <tr>\n",
              "      <th>8</th>\n",
              "      <td>1.00</td>\n",
              "      <td>0.01</td>\n",
              "      <td>0.977167</td>\n",
              "      <td>0.949</td>\n",
              "    </tr>\n",
              "    <tr>\n",
              "      <th>9</th>\n",
              "      <td>1.00</td>\n",
              "      <td>0.10</td>\n",
              "      <td>1.000000</td>\n",
              "      <td>0.842</td>\n",
              "    </tr>\n",
              "    <tr>\n",
              "      <th>10</th>\n",
              "      <td>1.00</td>\n",
              "      <td>1.00</td>\n",
              "      <td>1.000000</td>\n",
              "      <td>0.112</td>\n",
              "    </tr>\n",
              "    <tr>\n",
              "      <th>11</th>\n",
              "      <td>1.00</td>\n",
              "      <td>10.00</td>\n",
              "      <td>1.000000</td>\n",
              "      <td>0.112</td>\n",
              "    </tr>\n",
              "    <tr>\n",
              "      <th>12</th>\n",
              "      <td>10.00</td>\n",
              "      <td>0.01</td>\n",
              "      <td>1.000000</td>\n",
              "      <td>0.952</td>\n",
              "    </tr>\n",
              "    <tr>\n",
              "      <th>13</th>\n",
              "      <td>10.00</td>\n",
              "      <td>0.10</td>\n",
              "      <td>1.000000</td>\n",
              "      <td>0.855</td>\n",
              "    </tr>\n",
              "    <tr>\n",
              "      <th>14</th>\n",
              "      <td>10.00</td>\n",
              "      <td>1.00</td>\n",
              "      <td>1.000000</td>\n",
              "      <td>0.112</td>\n",
              "    </tr>\n",
              "    <tr>\n",
              "      <th>15</th>\n",
              "      <td>10.00</td>\n",
              "      <td>10.00</td>\n",
              "      <td>1.000000</td>\n",
              "      <td>0.112</td>\n",
              "    </tr>\n",
              "  </tbody>\n",
              "</table>\n",
              "</div>\n",
              "    <div class=\"colab-df-buttons\">\n",
              "\n",
              "  <div class=\"colab-df-container\">\n",
              "    <button class=\"colab-df-convert\" onclick=\"convertToInteractive('df-6d19fcde-461d-406f-9667-483ec4484cb5')\"\n",
              "            title=\"Convert this dataframe to an interactive table.\"\n",
              "            style=\"display:none;\">\n",
              "\n",
              "  <svg xmlns=\"http://www.w3.org/2000/svg\" height=\"24px\" viewBox=\"0 -960 960 960\">\n",
              "    <path d=\"M120-120v-720h720v720H120Zm60-500h600v-160H180v160Zm220 220h160v-160H400v160Zm0 220h160v-160H400v160ZM180-400h160v-160H180v160Zm440 0h160v-160H620v160ZM180-180h160v-160H180v160Zm440 0h160v-160H620v160Z\"/>\n",
              "  </svg>\n",
              "    </button>\n",
              "\n",
              "  <style>\n",
              "    .colab-df-container {\n",
              "      display:flex;\n",
              "      gap: 12px;\n",
              "    }\n",
              "\n",
              "    .colab-df-convert {\n",
              "      background-color: #E8F0FE;\n",
              "      border: none;\n",
              "      border-radius: 50%;\n",
              "      cursor: pointer;\n",
              "      display: none;\n",
              "      fill: #1967D2;\n",
              "      height: 32px;\n",
              "      padding: 0 0 0 0;\n",
              "      width: 32px;\n",
              "    }\n",
              "\n",
              "    .colab-df-convert:hover {\n",
              "      background-color: #E2EBFA;\n",
              "      box-shadow: 0px 1px 2px rgba(60, 64, 67, 0.3), 0px 1px 3px 1px rgba(60, 64, 67, 0.15);\n",
              "      fill: #174EA6;\n",
              "    }\n",
              "\n",
              "    .colab-df-buttons div {\n",
              "      margin-bottom: 4px;\n",
              "    }\n",
              "\n",
              "    [theme=dark] .colab-df-convert {\n",
              "      background-color: #3B4455;\n",
              "      fill: #D2E3FC;\n",
              "    }\n",
              "\n",
              "    [theme=dark] .colab-df-convert:hover {\n",
              "      background-color: #434B5C;\n",
              "      box-shadow: 0px 1px 3px 1px rgba(0, 0, 0, 0.15);\n",
              "      filter: drop-shadow(0px 1px 2px rgba(0, 0, 0, 0.3));\n",
              "      fill: #FFFFFF;\n",
              "    }\n",
              "  </style>\n",
              "\n",
              "    <script>\n",
              "      const buttonEl =\n",
              "        document.querySelector('#df-6d19fcde-461d-406f-9667-483ec4484cb5 button.colab-df-convert');\n",
              "      buttonEl.style.display =\n",
              "        google.colab.kernel.accessAllowed ? 'block' : 'none';\n",
              "\n",
              "      async function convertToInteractive(key) {\n",
              "        const element = document.querySelector('#df-6d19fcde-461d-406f-9667-483ec4484cb5');\n",
              "        const dataTable =\n",
              "          await google.colab.kernel.invokeFunction('convertToInteractive',\n",
              "                                                    [key], {});\n",
              "        if (!dataTable) return;\n",
              "\n",
              "        const docLinkHtml = 'Like what you see? Visit the ' +\n",
              "          '<a target=\"_blank\" href=https://colab.research.google.com/notebooks/data_table.ipynb>data table notebook</a>'\n",
              "          + ' to learn more about interactive tables.';\n",
              "        element.innerHTML = '';\n",
              "        dataTable['output_type'] = 'display_data';\n",
              "        await google.colab.output.renderOutput(dataTable, element);\n",
              "        const docLink = document.createElement('div');\n",
              "        docLink.innerHTML = docLinkHtml;\n",
              "        element.appendChild(docLink);\n",
              "      }\n",
              "    </script>\n",
              "  </div>\n",
              "\n",
              "\n",
              "<div id=\"df-65add30e-7396-4286-a771-c2114d788257\">\n",
              "  <button class=\"colab-df-quickchart\" onclick=\"quickchart('df-65add30e-7396-4286-a771-c2114d788257')\"\n",
              "            title=\"Suggest charts\"\n",
              "            style=\"display:none;\">\n",
              "\n",
              "<svg xmlns=\"http://www.w3.org/2000/svg\" height=\"24px\"viewBox=\"0 0 24 24\"\n",
              "     width=\"24px\">\n",
              "    <g>\n",
              "        <path d=\"M19 3H5c-1.1 0-2 .9-2 2v14c0 1.1.9 2 2 2h14c1.1 0 2-.9 2-2V5c0-1.1-.9-2-2-2zM9 17H7v-7h2v7zm4 0h-2V7h2v10zm4 0h-2v-4h2v4z\"/>\n",
              "    </g>\n",
              "</svg>\n",
              "  </button>\n",
              "\n",
              "<style>\n",
              "  .colab-df-quickchart {\n",
              "      --bg-color: #E8F0FE;\n",
              "      --fill-color: #1967D2;\n",
              "      --hover-bg-color: #E2EBFA;\n",
              "      --hover-fill-color: #174EA6;\n",
              "      --disabled-fill-color: #AAA;\n",
              "      --disabled-bg-color: #DDD;\n",
              "  }\n",
              "\n",
              "  [theme=dark] .colab-df-quickchart {\n",
              "      --bg-color: #3B4455;\n",
              "      --fill-color: #D2E3FC;\n",
              "      --hover-bg-color: #434B5C;\n",
              "      --hover-fill-color: #FFFFFF;\n",
              "      --disabled-bg-color: #3B4455;\n",
              "      --disabled-fill-color: #666;\n",
              "  }\n",
              "\n",
              "  .colab-df-quickchart {\n",
              "    background-color: var(--bg-color);\n",
              "    border: none;\n",
              "    border-radius: 50%;\n",
              "    cursor: pointer;\n",
              "    display: none;\n",
              "    fill: var(--fill-color);\n",
              "    height: 32px;\n",
              "    padding: 0;\n",
              "    width: 32px;\n",
              "  }\n",
              "\n",
              "  .colab-df-quickchart:hover {\n",
              "    background-color: var(--hover-bg-color);\n",
              "    box-shadow: 0 1px 2px rgba(60, 64, 67, 0.3), 0 1px 3px 1px rgba(60, 64, 67, 0.15);\n",
              "    fill: var(--button-hover-fill-color);\n",
              "  }\n",
              "\n",
              "  .colab-df-quickchart-complete:disabled,\n",
              "  .colab-df-quickchart-complete:disabled:hover {\n",
              "    background-color: var(--disabled-bg-color);\n",
              "    fill: var(--disabled-fill-color);\n",
              "    box-shadow: none;\n",
              "  }\n",
              "\n",
              "  .colab-df-spinner {\n",
              "    border: 2px solid var(--fill-color);\n",
              "    border-color: transparent;\n",
              "    border-bottom-color: var(--fill-color);\n",
              "    animation:\n",
              "      spin 1s steps(1) infinite;\n",
              "  }\n",
              "\n",
              "  @keyframes spin {\n",
              "    0% {\n",
              "      border-color: transparent;\n",
              "      border-bottom-color: var(--fill-color);\n",
              "      border-left-color: var(--fill-color);\n",
              "    }\n",
              "    20% {\n",
              "      border-color: transparent;\n",
              "      border-left-color: var(--fill-color);\n",
              "      border-top-color: var(--fill-color);\n",
              "    }\n",
              "    30% {\n",
              "      border-color: transparent;\n",
              "      border-left-color: var(--fill-color);\n",
              "      border-top-color: var(--fill-color);\n",
              "      border-right-color: var(--fill-color);\n",
              "    }\n",
              "    40% {\n",
              "      border-color: transparent;\n",
              "      border-right-color: var(--fill-color);\n",
              "      border-top-color: var(--fill-color);\n",
              "    }\n",
              "    60% {\n",
              "      border-color: transparent;\n",
              "      border-right-color: var(--fill-color);\n",
              "    }\n",
              "    80% {\n",
              "      border-color: transparent;\n",
              "      border-right-color: var(--fill-color);\n",
              "      border-bottom-color: var(--fill-color);\n",
              "    }\n",
              "    90% {\n",
              "      border-color: transparent;\n",
              "      border-bottom-color: var(--fill-color);\n",
              "    }\n",
              "  }\n",
              "</style>\n",
              "\n",
              "  <script>\n",
              "    async function quickchart(key) {\n",
              "      const quickchartButtonEl =\n",
              "        document.querySelector('#' + key + ' button');\n",
              "      quickchartButtonEl.disabled = true;  // To prevent multiple clicks.\n",
              "      quickchartButtonEl.classList.add('colab-df-spinner');\n",
              "      try {\n",
              "        const charts = await google.colab.kernel.invokeFunction(\n",
              "            'suggestCharts', [key], {});\n",
              "      } catch (error) {\n",
              "        console.error('Error during call to suggestCharts:', error);\n",
              "      }\n",
              "      quickchartButtonEl.classList.remove('colab-df-spinner');\n",
              "      quickchartButtonEl.classList.add('colab-df-quickchart-complete');\n",
              "    }\n",
              "    (() => {\n",
              "      let quickchartButtonEl =\n",
              "        document.querySelector('#df-65add30e-7396-4286-a771-c2114d788257 button');\n",
              "      quickchartButtonEl.style.display =\n",
              "        google.colab.kernel.accessAllowed ? 'block' : 'none';\n",
              "    })();\n",
              "  </script>\n",
              "</div>\n",
              "    </div>\n",
              "  </div>\n"
            ]
          },
          "metadata": {},
          "execution_count": 34
        }
      ]
    },
    {
      "cell_type": "markdown",
      "source": [
        "**Question:**\n",
        "\n",
        "Comment on the bias and variance of the SVC classifier with respect to C and gamma. Comment on the results overall in comparison to LinearSVC. What values would you choose?"
      ],
      "metadata": {
        "id": "XQLJg5y1kbSp"
      }
    },
    {
      "cell_type": "markdown",
      "source": [
        "**We choose C=10 and Gamma=0.01 to look at the Support vectors**"
      ],
      "metadata": {
        "id": "KxQo3Ar1iFiO"
      }
    },
    {
      "cell_type": "code",
      "source": [
        "pd.DataFrame(coefficient[15]) # dual_coef_"
      ],
      "metadata": {
        "id": "Ufr0R7arhRQj",
        "colab": {
          "base_uri": "https://localhost:8080/",
          "height": 381
        },
        "outputId": "ebb36501-a691-4788-bafa-b2672de07965"
      },
      "execution_count": 35,
      "outputs": [
        {
          "output_type": "execute_result",
          "data": {
            "text/plain": [
              "       0         1         2         3         4         5         6     \\\n",
              "0  1.077148  1.078125  1.077148  1.077148  1.077148  1.077148  1.077148   \n",
              "1  1.020508  1.020508  1.020508  1.020508  1.020508  1.020508  1.020508   \n",
              "2  1.025391  1.025391  1.025391  1.025391  1.025391  1.025391  1.025391   \n",
              "3  1.022461  1.022461  1.022461  1.022461  1.022461  1.022461  1.022461   \n",
              "4  0.978516  0.978516  0.978516  0.978516  0.978516  0.978516  0.978516   \n",
              "5  1.025391  1.025391  1.025391  1.025391  1.025391  1.025391  1.025391   \n",
              "6  1.038086  1.038086  1.038086  1.038086  1.038086  1.038086  1.038086   \n",
              "7  1.032227  1.032227  1.032227  1.032227  1.032227  1.032227  1.032227   \n",
              "8  0.998047  0.998047  0.999023  0.999023  0.999023  0.999023  0.999023   \n",
              "\n",
              "       7         8         9     ...      5663      5664      5665      5666  \\\n",
              "0  1.077148  1.077148  1.077148  ... -1.000977 -1.000977 -1.000977 -1.000977   \n",
              "1  1.020508  1.020508  1.020508  ... -1.079102 -1.079102 -1.079102 -1.079102   \n",
              "2  1.025391  1.025391  1.025391  ... -1.022461 -1.022461 -1.022461 -1.022461   \n",
              "3  1.022461  1.022461  1.022461  ... -1.028320 -1.028320 -1.028320 -1.028320   \n",
              "4  0.978516  0.978516  0.978516  ... -1.024414 -1.024414 -1.024414 -1.024414   \n",
              "5  1.025391  1.025391  1.025391  ... -0.981445 -0.981445 -0.981445 -0.981445   \n",
              "6  1.038086  1.038086  1.038086  ... -1.028320 -1.028320 -1.028320 -1.028320   \n",
              "7  1.032227  1.032227  1.032227  ... -1.040039 -1.040039 -1.040039 -1.040039   \n",
              "8  0.999023  0.999023  0.999023  ... -1.034180 -1.034180 -1.034180 -1.034180   \n",
              "\n",
              "       5667      5668      5669      5670      5671      5672  \n",
              "0 -1.000977 -1.000977 -1.000977 -1.000977 -1.000977 -1.000977  \n",
              "1 -1.079102 -1.079102 -1.079102 -1.079102 -1.079102 -1.079102  \n",
              "2 -1.022461 -1.022461 -1.022461 -1.022461 -1.022461 -1.022461  \n",
              "3 -1.028320 -1.028320 -1.028320 -1.028320 -1.028320 -1.028320  \n",
              "4 -1.024414 -1.024414 -1.024414 -1.024414 -1.024414 -1.024414  \n",
              "5 -0.981445 -0.981445 -0.981445 -0.981445 -0.981445 -0.981445  \n",
              "6 -1.028320 -1.028320 -1.028320 -1.028320 -1.028320 -1.028320  \n",
              "7 -1.040039 -1.040039 -1.040039 -1.040039 -1.040039 -1.040039  \n",
              "8 -1.034180 -1.034180 -1.034180 -1.034180 -1.034180 -1.034180  \n",
              "\n",
              "[9 rows x 5673 columns]"
            ],
            "text/html": [
              "\n",
              "  <div id=\"df-dfff960d-47f6-45e9-b7d7-3c64e1c5b2da\" class=\"colab-df-container\">\n",
              "    <div>\n",
              "<style scoped>\n",
              "    .dataframe tbody tr th:only-of-type {\n",
              "        vertical-align: middle;\n",
              "    }\n",
              "\n",
              "    .dataframe tbody tr th {\n",
              "        vertical-align: top;\n",
              "    }\n",
              "\n",
              "    .dataframe thead th {\n",
              "        text-align: right;\n",
              "    }\n",
              "</style>\n",
              "<table border=\"1\" class=\"dataframe\">\n",
              "  <thead>\n",
              "    <tr style=\"text-align: right;\">\n",
              "      <th></th>\n",
              "      <th>0</th>\n",
              "      <th>1</th>\n",
              "      <th>2</th>\n",
              "      <th>3</th>\n",
              "      <th>4</th>\n",
              "      <th>5</th>\n",
              "      <th>6</th>\n",
              "      <th>7</th>\n",
              "      <th>8</th>\n",
              "      <th>9</th>\n",
              "      <th>...</th>\n",
              "      <th>5663</th>\n",
              "      <th>5664</th>\n",
              "      <th>5665</th>\n",
              "      <th>5666</th>\n",
              "      <th>5667</th>\n",
              "      <th>5668</th>\n",
              "      <th>5669</th>\n",
              "      <th>5670</th>\n",
              "      <th>5671</th>\n",
              "      <th>5672</th>\n",
              "    </tr>\n",
              "  </thead>\n",
              "  <tbody>\n",
              "    <tr>\n",
              "      <th>0</th>\n",
              "      <td>1.077148</td>\n",
              "      <td>1.078125</td>\n",
              "      <td>1.077148</td>\n",
              "      <td>1.077148</td>\n",
              "      <td>1.077148</td>\n",
              "      <td>1.077148</td>\n",
              "      <td>1.077148</td>\n",
              "      <td>1.077148</td>\n",
              "      <td>1.077148</td>\n",
              "      <td>1.077148</td>\n",
              "      <td>...</td>\n",
              "      <td>-1.000977</td>\n",
              "      <td>-1.000977</td>\n",
              "      <td>-1.000977</td>\n",
              "      <td>-1.000977</td>\n",
              "      <td>-1.000977</td>\n",
              "      <td>-1.000977</td>\n",
              "      <td>-1.000977</td>\n",
              "      <td>-1.000977</td>\n",
              "      <td>-1.000977</td>\n",
              "      <td>-1.000977</td>\n",
              "    </tr>\n",
              "    <tr>\n",
              "      <th>1</th>\n",
              "      <td>1.020508</td>\n",
              "      <td>1.020508</td>\n",
              "      <td>1.020508</td>\n",
              "      <td>1.020508</td>\n",
              "      <td>1.020508</td>\n",
              "      <td>1.020508</td>\n",
              "      <td>1.020508</td>\n",
              "      <td>1.020508</td>\n",
              "      <td>1.020508</td>\n",
              "      <td>1.020508</td>\n",
              "      <td>...</td>\n",
              "      <td>-1.079102</td>\n",
              "      <td>-1.079102</td>\n",
              "      <td>-1.079102</td>\n",
              "      <td>-1.079102</td>\n",
              "      <td>-1.079102</td>\n",
              "      <td>-1.079102</td>\n",
              "      <td>-1.079102</td>\n",
              "      <td>-1.079102</td>\n",
              "      <td>-1.079102</td>\n",
              "      <td>-1.079102</td>\n",
              "    </tr>\n",
              "    <tr>\n",
              "      <th>2</th>\n",
              "      <td>1.025391</td>\n",
              "      <td>1.025391</td>\n",
              "      <td>1.025391</td>\n",
              "      <td>1.025391</td>\n",
              "      <td>1.025391</td>\n",
              "      <td>1.025391</td>\n",
              "      <td>1.025391</td>\n",
              "      <td>1.025391</td>\n",
              "      <td>1.025391</td>\n",
              "      <td>1.025391</td>\n",
              "      <td>...</td>\n",
              "      <td>-1.022461</td>\n",
              "      <td>-1.022461</td>\n",
              "      <td>-1.022461</td>\n",
              "      <td>-1.022461</td>\n",
              "      <td>-1.022461</td>\n",
              "      <td>-1.022461</td>\n",
              "      <td>-1.022461</td>\n",
              "      <td>-1.022461</td>\n",
              "      <td>-1.022461</td>\n",
              "      <td>-1.022461</td>\n",
              "    </tr>\n",
              "    <tr>\n",
              "      <th>3</th>\n",
              "      <td>1.022461</td>\n",
              "      <td>1.022461</td>\n",
              "      <td>1.022461</td>\n",
              "      <td>1.022461</td>\n",
              "      <td>1.022461</td>\n",
              "      <td>1.022461</td>\n",
              "      <td>1.022461</td>\n",
              "      <td>1.022461</td>\n",
              "      <td>1.022461</td>\n",
              "      <td>1.022461</td>\n",
              "      <td>...</td>\n",
              "      <td>-1.028320</td>\n",
              "      <td>-1.028320</td>\n",
              "      <td>-1.028320</td>\n",
              "      <td>-1.028320</td>\n",
              "      <td>-1.028320</td>\n",
              "      <td>-1.028320</td>\n",
              "      <td>-1.028320</td>\n",
              "      <td>-1.028320</td>\n",
              "      <td>-1.028320</td>\n",
              "      <td>-1.028320</td>\n",
              "    </tr>\n",
              "    <tr>\n",
              "      <th>4</th>\n",
              "      <td>0.978516</td>\n",
              "      <td>0.978516</td>\n",
              "      <td>0.978516</td>\n",
              "      <td>0.978516</td>\n",
              "      <td>0.978516</td>\n",
              "      <td>0.978516</td>\n",
              "      <td>0.978516</td>\n",
              "      <td>0.978516</td>\n",
              "      <td>0.978516</td>\n",
              "      <td>0.978516</td>\n",
              "      <td>...</td>\n",
              "      <td>-1.024414</td>\n",
              "      <td>-1.024414</td>\n",
              "      <td>-1.024414</td>\n",
              "      <td>-1.024414</td>\n",
              "      <td>-1.024414</td>\n",
              "      <td>-1.024414</td>\n",
              "      <td>-1.024414</td>\n",
              "      <td>-1.024414</td>\n",
              "      <td>-1.024414</td>\n",
              "      <td>-1.024414</td>\n",
              "    </tr>\n",
              "    <tr>\n",
              "      <th>5</th>\n",
              "      <td>1.025391</td>\n",
              "      <td>1.025391</td>\n",
              "      <td>1.025391</td>\n",
              "      <td>1.025391</td>\n",
              "      <td>1.025391</td>\n",
              "      <td>1.025391</td>\n",
              "      <td>1.025391</td>\n",
              "      <td>1.025391</td>\n",
              "      <td>1.025391</td>\n",
              "      <td>1.025391</td>\n",
              "      <td>...</td>\n",
              "      <td>-0.981445</td>\n",
              "      <td>-0.981445</td>\n",
              "      <td>-0.981445</td>\n",
              "      <td>-0.981445</td>\n",
              "      <td>-0.981445</td>\n",
              "      <td>-0.981445</td>\n",
              "      <td>-0.981445</td>\n",
              "      <td>-0.981445</td>\n",
              "      <td>-0.981445</td>\n",
              "      <td>-0.981445</td>\n",
              "    </tr>\n",
              "    <tr>\n",
              "      <th>6</th>\n",
              "      <td>1.038086</td>\n",
              "      <td>1.038086</td>\n",
              "      <td>1.038086</td>\n",
              "      <td>1.038086</td>\n",
              "      <td>1.038086</td>\n",
              "      <td>1.038086</td>\n",
              "      <td>1.038086</td>\n",
              "      <td>1.038086</td>\n",
              "      <td>1.038086</td>\n",
              "      <td>1.038086</td>\n",
              "      <td>...</td>\n",
              "      <td>-1.028320</td>\n",
              "      <td>-1.028320</td>\n",
              "      <td>-1.028320</td>\n",
              "      <td>-1.028320</td>\n",
              "      <td>-1.028320</td>\n",
              "      <td>-1.028320</td>\n",
              "      <td>-1.028320</td>\n",
              "      <td>-1.028320</td>\n",
              "      <td>-1.028320</td>\n",
              "      <td>-1.028320</td>\n",
              "    </tr>\n",
              "    <tr>\n",
              "      <th>7</th>\n",
              "      <td>1.032227</td>\n",
              "      <td>1.032227</td>\n",
              "      <td>1.032227</td>\n",
              "      <td>1.032227</td>\n",
              "      <td>1.032227</td>\n",
              "      <td>1.032227</td>\n",
              "      <td>1.032227</td>\n",
              "      <td>1.032227</td>\n",
              "      <td>1.032227</td>\n",
              "      <td>1.032227</td>\n",
              "      <td>...</td>\n",
              "      <td>-1.040039</td>\n",
              "      <td>-1.040039</td>\n",
              "      <td>-1.040039</td>\n",
              "      <td>-1.040039</td>\n",
              "      <td>-1.040039</td>\n",
              "      <td>-1.040039</td>\n",
              "      <td>-1.040039</td>\n",
              "      <td>-1.040039</td>\n",
              "      <td>-1.040039</td>\n",
              "      <td>-1.040039</td>\n",
              "    </tr>\n",
              "    <tr>\n",
              "      <th>8</th>\n",
              "      <td>0.998047</td>\n",
              "      <td>0.998047</td>\n",
              "      <td>0.999023</td>\n",
              "      <td>0.999023</td>\n",
              "      <td>0.999023</td>\n",
              "      <td>0.999023</td>\n",
              "      <td>0.999023</td>\n",
              "      <td>0.999023</td>\n",
              "      <td>0.999023</td>\n",
              "      <td>0.999023</td>\n",
              "      <td>...</td>\n",
              "      <td>-1.034180</td>\n",
              "      <td>-1.034180</td>\n",
              "      <td>-1.034180</td>\n",
              "      <td>-1.034180</td>\n",
              "      <td>-1.034180</td>\n",
              "      <td>-1.034180</td>\n",
              "      <td>-1.034180</td>\n",
              "      <td>-1.034180</td>\n",
              "      <td>-1.034180</td>\n",
              "      <td>-1.034180</td>\n",
              "    </tr>\n",
              "  </tbody>\n",
              "</table>\n",
              "<p>9 rows × 5673 columns</p>\n",
              "</div>\n",
              "    <div class=\"colab-df-buttons\">\n",
              "\n",
              "  <div class=\"colab-df-container\">\n",
              "    <button class=\"colab-df-convert\" onclick=\"convertToInteractive('df-dfff960d-47f6-45e9-b7d7-3c64e1c5b2da')\"\n",
              "            title=\"Convert this dataframe to an interactive table.\"\n",
              "            style=\"display:none;\">\n",
              "\n",
              "  <svg xmlns=\"http://www.w3.org/2000/svg\" height=\"24px\" viewBox=\"0 -960 960 960\">\n",
              "    <path d=\"M120-120v-720h720v720H120Zm60-500h600v-160H180v160Zm220 220h160v-160H400v160Zm0 220h160v-160H400v160ZM180-400h160v-160H180v160Zm440 0h160v-160H620v160ZM180-180h160v-160H180v160Zm440 0h160v-160H620v160Z\"/>\n",
              "  </svg>\n",
              "    </button>\n",
              "\n",
              "  <style>\n",
              "    .colab-df-container {\n",
              "      display:flex;\n",
              "      gap: 12px;\n",
              "    }\n",
              "\n",
              "    .colab-df-convert {\n",
              "      background-color: #E8F0FE;\n",
              "      border: none;\n",
              "      border-radius: 50%;\n",
              "      cursor: pointer;\n",
              "      display: none;\n",
              "      fill: #1967D2;\n",
              "      height: 32px;\n",
              "      padding: 0 0 0 0;\n",
              "      width: 32px;\n",
              "    }\n",
              "\n",
              "    .colab-df-convert:hover {\n",
              "      background-color: #E2EBFA;\n",
              "      box-shadow: 0px 1px 2px rgba(60, 64, 67, 0.3), 0px 1px 3px 1px rgba(60, 64, 67, 0.15);\n",
              "      fill: #174EA6;\n",
              "    }\n",
              "\n",
              "    .colab-df-buttons div {\n",
              "      margin-bottom: 4px;\n",
              "    }\n",
              "\n",
              "    [theme=dark] .colab-df-convert {\n",
              "      background-color: #3B4455;\n",
              "      fill: #D2E3FC;\n",
              "    }\n",
              "\n",
              "    [theme=dark] .colab-df-convert:hover {\n",
              "      background-color: #434B5C;\n",
              "      box-shadow: 0px 1px 3px 1px rgba(0, 0, 0, 0.15);\n",
              "      filter: drop-shadow(0px 1px 2px rgba(0, 0, 0, 0.3));\n",
              "      fill: #FFFFFF;\n",
              "    }\n",
              "  </style>\n",
              "\n",
              "    <script>\n",
              "      const buttonEl =\n",
              "        document.querySelector('#df-dfff960d-47f6-45e9-b7d7-3c64e1c5b2da button.colab-df-convert');\n",
              "      buttonEl.style.display =\n",
              "        google.colab.kernel.accessAllowed ? 'block' : 'none';\n",
              "\n",
              "      async function convertToInteractive(key) {\n",
              "        const element = document.querySelector('#df-dfff960d-47f6-45e9-b7d7-3c64e1c5b2da');\n",
              "        const dataTable =\n",
              "          await google.colab.kernel.invokeFunction('convertToInteractive',\n",
              "                                                    [key], {});\n",
              "        if (!dataTable) return;\n",
              "\n",
              "        const docLinkHtml = 'Like what you see? Visit the ' +\n",
              "          '<a target=\"_blank\" href=https://colab.research.google.com/notebooks/data_table.ipynb>data table notebook</a>'\n",
              "          + ' to learn more about interactive tables.';\n",
              "        element.innerHTML = '';\n",
              "        dataTable['output_type'] = 'display_data';\n",
              "        await google.colab.output.renderOutput(dataTable, element);\n",
              "        const docLink = document.createElement('div');\n",
              "        docLink.innerHTML = docLinkHtml;\n",
              "        element.appendChild(docLink);\n",
              "      }\n",
              "    </script>\n",
              "  </div>\n",
              "\n",
              "\n",
              "<div id=\"df-3a18d6d0-96b9-475f-95e8-73affd6aa395\">\n",
              "  <button class=\"colab-df-quickchart\" onclick=\"quickchart('df-3a18d6d0-96b9-475f-95e8-73affd6aa395')\"\n",
              "            title=\"Suggest charts\"\n",
              "            style=\"display:none;\">\n",
              "\n",
              "<svg xmlns=\"http://www.w3.org/2000/svg\" height=\"24px\"viewBox=\"0 0 24 24\"\n",
              "     width=\"24px\">\n",
              "    <g>\n",
              "        <path d=\"M19 3H5c-1.1 0-2 .9-2 2v14c0 1.1.9 2 2 2h14c1.1 0 2-.9 2-2V5c0-1.1-.9-2-2-2zM9 17H7v-7h2v7zm4 0h-2V7h2v10zm4 0h-2v-4h2v4z\"/>\n",
              "    </g>\n",
              "</svg>\n",
              "  </button>\n",
              "\n",
              "<style>\n",
              "  .colab-df-quickchart {\n",
              "      --bg-color: #E8F0FE;\n",
              "      --fill-color: #1967D2;\n",
              "      --hover-bg-color: #E2EBFA;\n",
              "      --hover-fill-color: #174EA6;\n",
              "      --disabled-fill-color: #AAA;\n",
              "      --disabled-bg-color: #DDD;\n",
              "  }\n",
              "\n",
              "  [theme=dark] .colab-df-quickchart {\n",
              "      --bg-color: #3B4455;\n",
              "      --fill-color: #D2E3FC;\n",
              "      --hover-bg-color: #434B5C;\n",
              "      --hover-fill-color: #FFFFFF;\n",
              "      --disabled-bg-color: #3B4455;\n",
              "      --disabled-fill-color: #666;\n",
              "  }\n",
              "\n",
              "  .colab-df-quickchart {\n",
              "    background-color: var(--bg-color);\n",
              "    border: none;\n",
              "    border-radius: 50%;\n",
              "    cursor: pointer;\n",
              "    display: none;\n",
              "    fill: var(--fill-color);\n",
              "    height: 32px;\n",
              "    padding: 0;\n",
              "    width: 32px;\n",
              "  }\n",
              "\n",
              "  .colab-df-quickchart:hover {\n",
              "    background-color: var(--hover-bg-color);\n",
              "    box-shadow: 0 1px 2px rgba(60, 64, 67, 0.3), 0 1px 3px 1px rgba(60, 64, 67, 0.15);\n",
              "    fill: var(--button-hover-fill-color);\n",
              "  }\n",
              "\n",
              "  .colab-df-quickchart-complete:disabled,\n",
              "  .colab-df-quickchart-complete:disabled:hover {\n",
              "    background-color: var(--disabled-bg-color);\n",
              "    fill: var(--disabled-fill-color);\n",
              "    box-shadow: none;\n",
              "  }\n",
              "\n",
              "  .colab-df-spinner {\n",
              "    border: 2px solid var(--fill-color);\n",
              "    border-color: transparent;\n",
              "    border-bottom-color: var(--fill-color);\n",
              "    animation:\n",
              "      spin 1s steps(1) infinite;\n",
              "  }\n",
              "\n",
              "  @keyframes spin {\n",
              "    0% {\n",
              "      border-color: transparent;\n",
              "      border-bottom-color: var(--fill-color);\n",
              "      border-left-color: var(--fill-color);\n",
              "    }\n",
              "    20% {\n",
              "      border-color: transparent;\n",
              "      border-left-color: var(--fill-color);\n",
              "      border-top-color: var(--fill-color);\n",
              "    }\n",
              "    30% {\n",
              "      border-color: transparent;\n",
              "      border-left-color: var(--fill-color);\n",
              "      border-top-color: var(--fill-color);\n",
              "      border-right-color: var(--fill-color);\n",
              "    }\n",
              "    40% {\n",
              "      border-color: transparent;\n",
              "      border-right-color: var(--fill-color);\n",
              "      border-top-color: var(--fill-color);\n",
              "    }\n",
              "    60% {\n",
              "      border-color: transparent;\n",
              "      border-right-color: var(--fill-color);\n",
              "    }\n",
              "    80% {\n",
              "      border-color: transparent;\n",
              "      border-right-color: var(--fill-color);\n",
              "      border-bottom-color: var(--fill-color);\n",
              "    }\n",
              "    90% {\n",
              "      border-color: transparent;\n",
              "      border-bottom-color: var(--fill-color);\n",
              "    }\n",
              "  }\n",
              "</style>\n",
              "\n",
              "  <script>\n",
              "    async function quickchart(key) {\n",
              "      const quickchartButtonEl =\n",
              "        document.querySelector('#' + key + ' button');\n",
              "      quickchartButtonEl.disabled = true;  // To prevent multiple clicks.\n",
              "      quickchartButtonEl.classList.add('colab-df-spinner');\n",
              "      try {\n",
              "        const charts = await google.colab.kernel.invokeFunction(\n",
              "            'suggestCharts', [key], {});\n",
              "      } catch (error) {\n",
              "        console.error('Error during call to suggestCharts:', error);\n",
              "      }\n",
              "      quickchartButtonEl.classList.remove('colab-df-spinner');\n",
              "      quickchartButtonEl.classList.add('colab-df-quickchart-complete');\n",
              "    }\n",
              "    (() => {\n",
              "      let quickchartButtonEl =\n",
              "        document.querySelector('#df-3a18d6d0-96b9-475f-95e8-73affd6aa395 button');\n",
              "      quickchartButtonEl.style.display =\n",
              "        google.colab.kernel.accessAllowed ? 'block' : 'none';\n",
              "    })();\n",
              "  </script>\n",
              "</div>\n",
              "    </div>\n",
              "  </div>\n"
            ]
          },
          "metadata": {},
          "execution_count": 35
        }
      ]
    },
    {
      "cell_type": "markdown",
      "source": [
        "**SVC Poly kernel**"
      ],
      "metadata": {
        "id": "2N51aHIXiezX"
      }
    },
    {
      "cell_type": "code",
      "source": [
        "from scipy.stats import mode\n",
        "import numpy as np\n",
        "from time import time\n",
        "import pandas as pd\n",
        "import os\n",
        "import matplotlib.pyplot as matplot\n",
        "import matplotlib\n",
        "%matplotlib inline\n",
        "\n",
        "import random\n",
        "matplot.rcdefaults()\n",
        "from IPython.display import display, HTML\n",
        "from itertools import chain\n",
        "from sklearn.metrics import confusion_matrix\n",
        "from sklearn.metrics import accuracy_score\n",
        "import seaborn as sb\n",
        "from sklearn.model_selection import ParameterGrid\n",
        "from sklearn.svm import SVC, LinearSVC\n",
        "import warnings\n",
        "warnings.filterwarnings('ignore')\n",
        "\n"
      ],
      "metadata": {
        "id": "im_kLXokhRTf"
      },
      "execution_count": 36,
      "outputs": []
    },
    {
      "cell_type": "code",
      "source": [
        "#generating a random sequence for sampling\n",
        "seq = np.random.randint(0,52500,5250)\n",
        "train_samp_x = X_train[seq]\n",
        "train_samp_y = y_train[seq]\n",
        "\n",
        "train_samp_x.shape, train_samp_y.shape"
      ],
      "metadata": {
        "id": "v95iPzCmhRWM",
        "colab": {
          "base_uri": "https://localhost:8080/"
        },
        "outputId": "7e232806-0dbf-4d6d-fac9-b04775c1d3df"
      },
      "execution_count": 38,
      "outputs": [
        {
          "output_type": "execute_result",
          "data": {
            "text/plain": [
              "((5250, 784), (5250,))"
            ]
          },
          "metadata": {},
          "execution_count": 38
        }
      ]
    },
    {
      "cell_type": "code",
      "source": [
        "seq = np.random.randint(0,17500,1750)\n",
        "test_samp_x = X_test[seq]\n",
        "test_samp_y = y_test[seq]\n",
        "\n",
        "test_samp_x.shape, test_samp_y.shape"
      ],
      "metadata": {
        "id": "6OPux3nNhRZN",
        "colab": {
          "base_uri": "https://localhost:8080/"
        },
        "outputId": "402799b2-1b58-43c4-841a-1fa31babc869"
      },
      "execution_count": 40,
      "outputs": [
        {
          "output_type": "execute_result",
          "data": {
            "text/plain": [
              "((1750, 784), (1750,))"
            ]
          },
          "metadata": {},
          "execution_count": 40
        }
      ]
    },
    {
      "cell_type": "code",
      "source": [
        "coefficient = []\n",
        "n_supp = []\n",
        "sup_vec = []\n",
        "i = 0\n",
        "df = pd.DataFrame(columns = ['c','degree','train_acc','test_acc'])\n",
        "for c in [0.01, 0.1, 1, 10, 100]:\n",
        "    for d in [2,3,4,5]:\n",
        "        svm = SVC(kernel='poly', C=c, degree=d)\n",
        "        model = svm.fit(train_samp_x, train_samp_y)\n",
        "        globals()['model%s' % i] = model\n",
        "        d_coef = svm.dual_coef_\n",
        "        support = svm.n_support_\n",
        "        sv = svm.support_\n",
        "\n",
        "        p_tr = svm.predict(train_samp_x)\n",
        "        a_tr = accuracy_score(train_samp_y, p_tr)\n",
        "\n",
        "        pred = svm.predict(test_samp_x)\n",
        "        a = accuracy_score(test_samp_y, pred)\n",
        "\n",
        "        coefficient.append(d_coef)\n",
        "        n_supp.append(support)\n",
        "        sup_vec.append(sv)\n",
        "        df.loc[i] = [c,d,a_tr,a]\n",
        "        i=i+1"
      ],
      "metadata": {
        "id": "ApeE2IbehRcc"
      },
      "execution_count": 46,
      "outputs": []
    },
    {
      "cell_type": "code",
      "source": [
        "df"
      ],
      "metadata": {
        "id": "1UdCZqZghRhw",
        "colab": {
          "base_uri": "https://localhost:8080/",
          "height": 677
        },
        "outputId": "13811720-2d8b-405c-ec18-796c7c4a754e"
      },
      "execution_count": 47,
      "outputs": [
        {
          "output_type": "execute_result",
          "data": {
            "text/plain": [
              "         c  degree  train_acc  test_acc\n",
              "0     0.01     2.0   0.682667  0.680571\n",
              "1     0.01     3.0   0.582476  0.584571\n",
              "2     0.01     4.0   0.491429  0.474857\n",
              "3     0.01     5.0   0.439429  0.415429\n",
              "4     0.10     2.0   0.926286  0.896000\n",
              "5     0.10     3.0   0.909714  0.866286\n",
              "6     0.10     4.0   0.849333  0.802857\n",
              "7     0.10     5.0   0.784381  0.737714\n",
              "8     1.00     2.0   0.985143  0.934857\n",
              "9     1.00     3.0   0.987048  0.925714\n",
              "10    1.00     4.0   0.972000  0.903429\n",
              "11    1.00     5.0   0.948190  0.860000\n",
              "12   10.00     2.0   0.999810  0.944000\n",
              "13   10.00     3.0   0.999238  0.938857\n",
              "14   10.00     4.0   0.997333  0.927429\n",
              "15   10.00     5.0   0.991619  0.894286\n",
              "16  100.00     2.0   1.000000  0.943429\n",
              "17  100.00     3.0   1.000000  0.935429\n",
              "18  100.00     4.0   0.999810  0.917714\n",
              "19  100.00     5.0   0.999238  0.896571"
            ],
            "text/html": [
              "\n",
              "  <div id=\"df-c9d08497-45d9-43e6-b009-6be255f7ac85\" class=\"colab-df-container\">\n",
              "    <div>\n",
              "<style scoped>\n",
              "    .dataframe tbody tr th:only-of-type {\n",
              "        vertical-align: middle;\n",
              "    }\n",
              "\n",
              "    .dataframe tbody tr th {\n",
              "        vertical-align: top;\n",
              "    }\n",
              "\n",
              "    .dataframe thead th {\n",
              "        text-align: right;\n",
              "    }\n",
              "</style>\n",
              "<table border=\"1\" class=\"dataframe\">\n",
              "  <thead>\n",
              "    <tr style=\"text-align: right;\">\n",
              "      <th></th>\n",
              "      <th>c</th>\n",
              "      <th>degree</th>\n",
              "      <th>train_acc</th>\n",
              "      <th>test_acc</th>\n",
              "    </tr>\n",
              "  </thead>\n",
              "  <tbody>\n",
              "    <tr>\n",
              "      <th>0</th>\n",
              "      <td>0.01</td>\n",
              "      <td>2.0</td>\n",
              "      <td>0.682667</td>\n",
              "      <td>0.680571</td>\n",
              "    </tr>\n",
              "    <tr>\n",
              "      <th>1</th>\n",
              "      <td>0.01</td>\n",
              "      <td>3.0</td>\n",
              "      <td>0.582476</td>\n",
              "      <td>0.584571</td>\n",
              "    </tr>\n",
              "    <tr>\n",
              "      <th>2</th>\n",
              "      <td>0.01</td>\n",
              "      <td>4.0</td>\n",
              "      <td>0.491429</td>\n",
              "      <td>0.474857</td>\n",
              "    </tr>\n",
              "    <tr>\n",
              "      <th>3</th>\n",
              "      <td>0.01</td>\n",
              "      <td>5.0</td>\n",
              "      <td>0.439429</td>\n",
              "      <td>0.415429</td>\n",
              "    </tr>\n",
              "    <tr>\n",
              "      <th>4</th>\n",
              "      <td>0.10</td>\n",
              "      <td>2.0</td>\n",
              "      <td>0.926286</td>\n",
              "      <td>0.896000</td>\n",
              "    </tr>\n",
              "    <tr>\n",
              "      <th>5</th>\n",
              "      <td>0.10</td>\n",
              "      <td>3.0</td>\n",
              "      <td>0.909714</td>\n",
              "      <td>0.866286</td>\n",
              "    </tr>\n",
              "    <tr>\n",
              "      <th>6</th>\n",
              "      <td>0.10</td>\n",
              "      <td>4.0</td>\n",
              "      <td>0.849333</td>\n",
              "      <td>0.802857</td>\n",
              "    </tr>\n",
              "    <tr>\n",
              "      <th>7</th>\n",
              "      <td>0.10</td>\n",
              "      <td>5.0</td>\n",
              "      <td>0.784381</td>\n",
              "      <td>0.737714</td>\n",
              "    </tr>\n",
              "    <tr>\n",
              "      <th>8</th>\n",
              "      <td>1.00</td>\n",
              "      <td>2.0</td>\n",
              "      <td>0.985143</td>\n",
              "      <td>0.934857</td>\n",
              "    </tr>\n",
              "    <tr>\n",
              "      <th>9</th>\n",
              "      <td>1.00</td>\n",
              "      <td>3.0</td>\n",
              "      <td>0.987048</td>\n",
              "      <td>0.925714</td>\n",
              "    </tr>\n",
              "    <tr>\n",
              "      <th>10</th>\n",
              "      <td>1.00</td>\n",
              "      <td>4.0</td>\n",
              "      <td>0.972000</td>\n",
              "      <td>0.903429</td>\n",
              "    </tr>\n",
              "    <tr>\n",
              "      <th>11</th>\n",
              "      <td>1.00</td>\n",
              "      <td>5.0</td>\n",
              "      <td>0.948190</td>\n",
              "      <td>0.860000</td>\n",
              "    </tr>\n",
              "    <tr>\n",
              "      <th>12</th>\n",
              "      <td>10.00</td>\n",
              "      <td>2.0</td>\n",
              "      <td>0.999810</td>\n",
              "      <td>0.944000</td>\n",
              "    </tr>\n",
              "    <tr>\n",
              "      <th>13</th>\n",
              "      <td>10.00</td>\n",
              "      <td>3.0</td>\n",
              "      <td>0.999238</td>\n",
              "      <td>0.938857</td>\n",
              "    </tr>\n",
              "    <tr>\n",
              "      <th>14</th>\n",
              "      <td>10.00</td>\n",
              "      <td>4.0</td>\n",
              "      <td>0.997333</td>\n",
              "      <td>0.927429</td>\n",
              "    </tr>\n",
              "    <tr>\n",
              "      <th>15</th>\n",
              "      <td>10.00</td>\n",
              "      <td>5.0</td>\n",
              "      <td>0.991619</td>\n",
              "      <td>0.894286</td>\n",
              "    </tr>\n",
              "    <tr>\n",
              "      <th>16</th>\n",
              "      <td>100.00</td>\n",
              "      <td>2.0</td>\n",
              "      <td>1.000000</td>\n",
              "      <td>0.943429</td>\n",
              "    </tr>\n",
              "    <tr>\n",
              "      <th>17</th>\n",
              "      <td>100.00</td>\n",
              "      <td>3.0</td>\n",
              "      <td>1.000000</td>\n",
              "      <td>0.935429</td>\n",
              "    </tr>\n",
              "    <tr>\n",
              "      <th>18</th>\n",
              "      <td>100.00</td>\n",
              "      <td>4.0</td>\n",
              "      <td>0.999810</td>\n",
              "      <td>0.917714</td>\n",
              "    </tr>\n",
              "    <tr>\n",
              "      <th>19</th>\n",
              "      <td>100.00</td>\n",
              "      <td>5.0</td>\n",
              "      <td>0.999238</td>\n",
              "      <td>0.896571</td>\n",
              "    </tr>\n",
              "  </tbody>\n",
              "</table>\n",
              "</div>\n",
              "    <div class=\"colab-df-buttons\">\n",
              "\n",
              "  <div class=\"colab-df-container\">\n",
              "    <button class=\"colab-df-convert\" onclick=\"convertToInteractive('df-c9d08497-45d9-43e6-b009-6be255f7ac85')\"\n",
              "            title=\"Convert this dataframe to an interactive table.\"\n",
              "            style=\"display:none;\">\n",
              "\n",
              "  <svg xmlns=\"http://www.w3.org/2000/svg\" height=\"24px\" viewBox=\"0 -960 960 960\">\n",
              "    <path d=\"M120-120v-720h720v720H120Zm60-500h600v-160H180v160Zm220 220h160v-160H400v160Zm0 220h160v-160H400v160ZM180-400h160v-160H180v160Zm440 0h160v-160H620v160ZM180-180h160v-160H180v160Zm440 0h160v-160H620v160Z\"/>\n",
              "  </svg>\n",
              "    </button>\n",
              "\n",
              "  <style>\n",
              "    .colab-df-container {\n",
              "      display:flex;\n",
              "      gap: 12px;\n",
              "    }\n",
              "\n",
              "    .colab-df-convert {\n",
              "      background-color: #E8F0FE;\n",
              "      border: none;\n",
              "      border-radius: 50%;\n",
              "      cursor: pointer;\n",
              "      display: none;\n",
              "      fill: #1967D2;\n",
              "      height: 32px;\n",
              "      padding: 0 0 0 0;\n",
              "      width: 32px;\n",
              "    }\n",
              "\n",
              "    .colab-df-convert:hover {\n",
              "      background-color: #E2EBFA;\n",
              "      box-shadow: 0px 1px 2px rgba(60, 64, 67, 0.3), 0px 1px 3px 1px rgba(60, 64, 67, 0.15);\n",
              "      fill: #174EA6;\n",
              "    }\n",
              "\n",
              "    .colab-df-buttons div {\n",
              "      margin-bottom: 4px;\n",
              "    }\n",
              "\n",
              "    [theme=dark] .colab-df-convert {\n",
              "      background-color: #3B4455;\n",
              "      fill: #D2E3FC;\n",
              "    }\n",
              "\n",
              "    [theme=dark] .colab-df-convert:hover {\n",
              "      background-color: #434B5C;\n",
              "      box-shadow: 0px 1px 3px 1px rgba(0, 0, 0, 0.15);\n",
              "      filter: drop-shadow(0px 1px 2px rgba(0, 0, 0, 0.3));\n",
              "      fill: #FFFFFF;\n",
              "    }\n",
              "  </style>\n",
              "\n",
              "    <script>\n",
              "      const buttonEl =\n",
              "        document.querySelector('#df-c9d08497-45d9-43e6-b009-6be255f7ac85 button.colab-df-convert');\n",
              "      buttonEl.style.display =\n",
              "        google.colab.kernel.accessAllowed ? 'block' : 'none';\n",
              "\n",
              "      async function convertToInteractive(key) {\n",
              "        const element = document.querySelector('#df-c9d08497-45d9-43e6-b009-6be255f7ac85');\n",
              "        const dataTable =\n",
              "          await google.colab.kernel.invokeFunction('convertToInteractive',\n",
              "                                                    [key], {});\n",
              "        if (!dataTable) return;\n",
              "\n",
              "        const docLinkHtml = 'Like what you see? Visit the ' +\n",
              "          '<a target=\"_blank\" href=https://colab.research.google.com/notebooks/data_table.ipynb>data table notebook</a>'\n",
              "          + ' to learn more about interactive tables.';\n",
              "        element.innerHTML = '';\n",
              "        dataTable['output_type'] = 'display_data';\n",
              "        await google.colab.output.renderOutput(dataTable, element);\n",
              "        const docLink = document.createElement('div');\n",
              "        docLink.innerHTML = docLinkHtml;\n",
              "        element.appendChild(docLink);\n",
              "      }\n",
              "    </script>\n",
              "  </div>\n",
              "\n",
              "\n",
              "<div id=\"df-bd82e159-bea9-470b-99c0-58002fb56ef7\">\n",
              "  <button class=\"colab-df-quickchart\" onclick=\"quickchart('df-bd82e159-bea9-470b-99c0-58002fb56ef7')\"\n",
              "            title=\"Suggest charts\"\n",
              "            style=\"display:none;\">\n",
              "\n",
              "<svg xmlns=\"http://www.w3.org/2000/svg\" height=\"24px\"viewBox=\"0 0 24 24\"\n",
              "     width=\"24px\">\n",
              "    <g>\n",
              "        <path d=\"M19 3H5c-1.1 0-2 .9-2 2v14c0 1.1.9 2 2 2h14c1.1 0 2-.9 2-2V5c0-1.1-.9-2-2-2zM9 17H7v-7h2v7zm4 0h-2V7h2v10zm4 0h-2v-4h2v4z\"/>\n",
              "    </g>\n",
              "</svg>\n",
              "  </button>\n",
              "\n",
              "<style>\n",
              "  .colab-df-quickchart {\n",
              "      --bg-color: #E8F0FE;\n",
              "      --fill-color: #1967D2;\n",
              "      --hover-bg-color: #E2EBFA;\n",
              "      --hover-fill-color: #174EA6;\n",
              "      --disabled-fill-color: #AAA;\n",
              "      --disabled-bg-color: #DDD;\n",
              "  }\n",
              "\n",
              "  [theme=dark] .colab-df-quickchart {\n",
              "      --bg-color: #3B4455;\n",
              "      --fill-color: #D2E3FC;\n",
              "      --hover-bg-color: #434B5C;\n",
              "      --hover-fill-color: #FFFFFF;\n",
              "      --disabled-bg-color: #3B4455;\n",
              "      --disabled-fill-color: #666;\n",
              "  }\n",
              "\n",
              "  .colab-df-quickchart {\n",
              "    background-color: var(--bg-color);\n",
              "    border: none;\n",
              "    border-radius: 50%;\n",
              "    cursor: pointer;\n",
              "    display: none;\n",
              "    fill: var(--fill-color);\n",
              "    height: 32px;\n",
              "    padding: 0;\n",
              "    width: 32px;\n",
              "  }\n",
              "\n",
              "  .colab-df-quickchart:hover {\n",
              "    background-color: var(--hover-bg-color);\n",
              "    box-shadow: 0 1px 2px rgba(60, 64, 67, 0.3), 0 1px 3px 1px rgba(60, 64, 67, 0.15);\n",
              "    fill: var(--button-hover-fill-color);\n",
              "  }\n",
              "\n",
              "  .colab-df-quickchart-complete:disabled,\n",
              "  .colab-df-quickchart-complete:disabled:hover {\n",
              "    background-color: var(--disabled-bg-color);\n",
              "    fill: var(--disabled-fill-color);\n",
              "    box-shadow: none;\n",
              "  }\n",
              "\n",
              "  .colab-df-spinner {\n",
              "    border: 2px solid var(--fill-color);\n",
              "    border-color: transparent;\n",
              "    border-bottom-color: var(--fill-color);\n",
              "    animation:\n",
              "      spin 1s steps(1) infinite;\n",
              "  }\n",
              "\n",
              "  @keyframes spin {\n",
              "    0% {\n",
              "      border-color: transparent;\n",
              "      border-bottom-color: var(--fill-color);\n",
              "      border-left-color: var(--fill-color);\n",
              "    }\n",
              "    20% {\n",
              "      border-color: transparent;\n",
              "      border-left-color: var(--fill-color);\n",
              "      border-top-color: var(--fill-color);\n",
              "    }\n",
              "    30% {\n",
              "      border-color: transparent;\n",
              "      border-left-color: var(--fill-color);\n",
              "      border-top-color: var(--fill-color);\n",
              "      border-right-color: var(--fill-color);\n",
              "    }\n",
              "    40% {\n",
              "      border-color: transparent;\n",
              "      border-right-color: var(--fill-color);\n",
              "      border-top-color: var(--fill-color);\n",
              "    }\n",
              "    60% {\n",
              "      border-color: transparent;\n",
              "      border-right-color: var(--fill-color);\n",
              "    }\n",
              "    80% {\n",
              "      border-color: transparent;\n",
              "      border-right-color: var(--fill-color);\n",
              "      border-bottom-color: var(--fill-color);\n",
              "    }\n",
              "    90% {\n",
              "      border-color: transparent;\n",
              "      border-bottom-color: var(--fill-color);\n",
              "    }\n",
              "  }\n",
              "</style>\n",
              "\n",
              "  <script>\n",
              "    async function quickchart(key) {\n",
              "      const quickchartButtonEl =\n",
              "        document.querySelector('#' + key + ' button');\n",
              "      quickchartButtonEl.disabled = true;  // To prevent multiple clicks.\n",
              "      quickchartButtonEl.classList.add('colab-df-spinner');\n",
              "      try {\n",
              "        const charts = await google.colab.kernel.invokeFunction(\n",
              "            'suggestCharts', [key], {});\n",
              "      } catch (error) {\n",
              "        console.error('Error during call to suggestCharts:', error);\n",
              "      }\n",
              "      quickchartButtonEl.classList.remove('colab-df-spinner');\n",
              "      quickchartButtonEl.classList.add('colab-df-quickchart-complete');\n",
              "    }\n",
              "    (() => {\n",
              "      let quickchartButtonEl =\n",
              "        document.querySelector('#df-bd82e159-bea9-470b-99c0-58002fb56ef7 button');\n",
              "      quickchartButtonEl.style.display =\n",
              "        google.colab.kernel.accessAllowed ? 'block' : 'none';\n",
              "    })();\n",
              "  </script>\n",
              "</div>\n",
              "    </div>\n",
              "  </div>\n"
            ]
          },
          "metadata": {},
          "execution_count": 47
        }
      ]
    },
    {
      "cell_type": "markdown",
      "source": [
        "**Question:**\n",
        "\n",
        "Comment on the bias and variance of the SVC classifier with respect to C and gamma. Comment on the results overall in comparison to LinearSVC. What values would you choose?"
      ],
      "metadata": {
        "id": "kQBe2760mFkz"
      }
    },
    {
      "cell_type": "markdown",
      "source": [
        "**We choose C=10 and Degree=2 to look at the Support vectors**"
      ],
      "metadata": {
        "id": "jpqw0ruCi_LY"
      }
    },
    {
      "cell_type": "code",
      "source": [
        "pd.DataFrame(coefficient[10]) # dual_coef_"
      ],
      "metadata": {
        "id": "4dg6RDsBi6G_",
        "colab": {
          "base_uri": "https://localhost:8080/",
          "height": 381
        },
        "outputId": "20b70426-17d6-4e51-d431-d4e08c6ccf66"
      },
      "execution_count": 49,
      "outputs": [
        {
          "output_type": "execute_result",
          "data": {
            "text/plain": [
              "   0         1         2         3         4         5         6         7     \\\n",
              "0   1.0  0.019249  1.000000  0.000000  0.000000  0.157719  0.871158  0.235572   \n",
              "1   1.0  0.122282  0.983177  0.017790  0.000000  0.927202  0.782431  0.537653   \n",
              "2   1.0  0.147983  0.906324  0.074100  0.000000  0.461798  0.824120  0.755499   \n",
              "3   1.0  0.028034  0.953098  0.000000  0.000000  0.406575  0.876876  0.497079   \n",
              "4   1.0  0.159256  1.000000  0.189270  0.000000  0.673754  0.975035  0.557188   \n",
              "5   1.0  0.000000  1.000000  0.000000  0.000000  0.858235  0.851482  1.000000   \n",
              "6   1.0  0.163748  1.000000  0.000000  0.000000  0.420504  0.919868  0.379865   \n",
              "7   1.0  0.069889  0.760664  0.015766  0.000000  0.398732  0.720072  0.047980   \n",
              "8   1.0  0.337607  1.000000  0.000000  0.050503  0.636953  0.836981  0.387955   \n",
              "\n",
              "       8         9     ...      2083      2084      2085      2086      2087  \\\n",
              "0  0.000000  0.645093  ... -0.000000 -0.035396 -0.108949 -0.244696 -0.000000   \n",
              "1  0.000000  0.888521  ... -0.972611 -1.000000 -1.000000 -0.000000 -0.000000   \n",
              "2  0.000000  0.820800  ... -0.000000 -0.869350 -1.000000 -0.001666 -0.000000   \n",
              "3  0.000000  0.742091  ... -0.921751 -1.000000 -1.000000 -0.000000 -0.000000   \n",
              "4  0.000000  1.000000  ... -1.000000 -1.000000 -1.000000 -0.609379 -0.300359   \n",
              "5  0.000000  1.000000  ... -1.000000 -1.000000 -1.000000 -0.000000 -0.000000   \n",
              "6  0.000000  0.627716  ... -0.041348 -0.741370 -1.000000 -0.000000 -0.000000   \n",
              "7  0.000000  0.920301  ... -1.000000 -1.000000 -1.000000 -1.000000 -0.000000   \n",
              "8  0.091566  0.855148  ... -0.183288 -0.254967 -1.000000 -0.000000 -0.000000   \n",
              "\n",
              "       2088      2089  2090      2091      2092  \n",
              "0 -0.169591 -0.335254  -1.0 -0.178938 -0.068013  \n",
              "1 -1.000000 -1.000000  -1.0 -0.000000 -0.000000  \n",
              "2 -0.465269 -1.000000  -1.0 -0.046687 -0.163816  \n",
              "3 -0.632577 -1.000000  -1.0 -0.148069 -0.000000  \n",
              "4 -1.000000 -1.000000  -1.0 -0.000000 -0.076385  \n",
              "5 -1.000000 -1.000000  -1.0 -0.000000 -0.000000  \n",
              "6 -0.577053 -1.000000  -1.0 -0.000000 -0.000000  \n",
              "7 -1.000000 -1.000000  -1.0 -0.013375 -0.000000  \n",
              "8 -0.147289 -0.734992  -1.0 -0.135309 -0.178231  \n",
              "\n",
              "[9 rows x 2093 columns]"
            ],
            "text/html": [
              "\n",
              "  <div id=\"df-65dc8fdc-898b-4bca-b46a-217b30c27c27\" class=\"colab-df-container\">\n",
              "    <div>\n",
              "<style scoped>\n",
              "    .dataframe tbody tr th:only-of-type {\n",
              "        vertical-align: middle;\n",
              "    }\n",
              "\n",
              "    .dataframe tbody tr th {\n",
              "        vertical-align: top;\n",
              "    }\n",
              "\n",
              "    .dataframe thead th {\n",
              "        text-align: right;\n",
              "    }\n",
              "</style>\n",
              "<table border=\"1\" class=\"dataframe\">\n",
              "  <thead>\n",
              "    <tr style=\"text-align: right;\">\n",
              "      <th></th>\n",
              "      <th>0</th>\n",
              "      <th>1</th>\n",
              "      <th>2</th>\n",
              "      <th>3</th>\n",
              "      <th>4</th>\n",
              "      <th>5</th>\n",
              "      <th>6</th>\n",
              "      <th>7</th>\n",
              "      <th>8</th>\n",
              "      <th>9</th>\n",
              "      <th>...</th>\n",
              "      <th>2083</th>\n",
              "      <th>2084</th>\n",
              "      <th>2085</th>\n",
              "      <th>2086</th>\n",
              "      <th>2087</th>\n",
              "      <th>2088</th>\n",
              "      <th>2089</th>\n",
              "      <th>2090</th>\n",
              "      <th>2091</th>\n",
              "      <th>2092</th>\n",
              "    </tr>\n",
              "  </thead>\n",
              "  <tbody>\n",
              "    <tr>\n",
              "      <th>0</th>\n",
              "      <td>1.0</td>\n",
              "      <td>0.019249</td>\n",
              "      <td>1.000000</td>\n",
              "      <td>0.000000</td>\n",
              "      <td>0.000000</td>\n",
              "      <td>0.157719</td>\n",
              "      <td>0.871158</td>\n",
              "      <td>0.235572</td>\n",
              "      <td>0.000000</td>\n",
              "      <td>0.645093</td>\n",
              "      <td>...</td>\n",
              "      <td>-0.000000</td>\n",
              "      <td>-0.035396</td>\n",
              "      <td>-0.108949</td>\n",
              "      <td>-0.244696</td>\n",
              "      <td>-0.000000</td>\n",
              "      <td>-0.169591</td>\n",
              "      <td>-0.335254</td>\n",
              "      <td>-1.0</td>\n",
              "      <td>-0.178938</td>\n",
              "      <td>-0.068013</td>\n",
              "    </tr>\n",
              "    <tr>\n",
              "      <th>1</th>\n",
              "      <td>1.0</td>\n",
              "      <td>0.122282</td>\n",
              "      <td>0.983177</td>\n",
              "      <td>0.017790</td>\n",
              "      <td>0.000000</td>\n",
              "      <td>0.927202</td>\n",
              "      <td>0.782431</td>\n",
              "      <td>0.537653</td>\n",
              "      <td>0.000000</td>\n",
              "      <td>0.888521</td>\n",
              "      <td>...</td>\n",
              "      <td>-0.972611</td>\n",
              "      <td>-1.000000</td>\n",
              "      <td>-1.000000</td>\n",
              "      <td>-0.000000</td>\n",
              "      <td>-0.000000</td>\n",
              "      <td>-1.000000</td>\n",
              "      <td>-1.000000</td>\n",
              "      <td>-1.0</td>\n",
              "      <td>-0.000000</td>\n",
              "      <td>-0.000000</td>\n",
              "    </tr>\n",
              "    <tr>\n",
              "      <th>2</th>\n",
              "      <td>1.0</td>\n",
              "      <td>0.147983</td>\n",
              "      <td>0.906324</td>\n",
              "      <td>0.074100</td>\n",
              "      <td>0.000000</td>\n",
              "      <td>0.461798</td>\n",
              "      <td>0.824120</td>\n",
              "      <td>0.755499</td>\n",
              "      <td>0.000000</td>\n",
              "      <td>0.820800</td>\n",
              "      <td>...</td>\n",
              "      <td>-0.000000</td>\n",
              "      <td>-0.869350</td>\n",
              "      <td>-1.000000</td>\n",
              "      <td>-0.001666</td>\n",
              "      <td>-0.000000</td>\n",
              "      <td>-0.465269</td>\n",
              "      <td>-1.000000</td>\n",
              "      <td>-1.0</td>\n",
              "      <td>-0.046687</td>\n",
              "      <td>-0.163816</td>\n",
              "    </tr>\n",
              "    <tr>\n",
              "      <th>3</th>\n",
              "      <td>1.0</td>\n",
              "      <td>0.028034</td>\n",
              "      <td>0.953098</td>\n",
              "      <td>0.000000</td>\n",
              "      <td>0.000000</td>\n",
              "      <td>0.406575</td>\n",
              "      <td>0.876876</td>\n",
              "      <td>0.497079</td>\n",
              "      <td>0.000000</td>\n",
              "      <td>0.742091</td>\n",
              "      <td>...</td>\n",
              "      <td>-0.921751</td>\n",
              "      <td>-1.000000</td>\n",
              "      <td>-1.000000</td>\n",
              "      <td>-0.000000</td>\n",
              "      <td>-0.000000</td>\n",
              "      <td>-0.632577</td>\n",
              "      <td>-1.000000</td>\n",
              "      <td>-1.0</td>\n",
              "      <td>-0.148069</td>\n",
              "      <td>-0.000000</td>\n",
              "    </tr>\n",
              "    <tr>\n",
              "      <th>4</th>\n",
              "      <td>1.0</td>\n",
              "      <td>0.159256</td>\n",
              "      <td>1.000000</td>\n",
              "      <td>0.189270</td>\n",
              "      <td>0.000000</td>\n",
              "      <td>0.673754</td>\n",
              "      <td>0.975035</td>\n",
              "      <td>0.557188</td>\n",
              "      <td>0.000000</td>\n",
              "      <td>1.000000</td>\n",
              "      <td>...</td>\n",
              "      <td>-1.000000</td>\n",
              "      <td>-1.000000</td>\n",
              "      <td>-1.000000</td>\n",
              "      <td>-0.609379</td>\n",
              "      <td>-0.300359</td>\n",
              "      <td>-1.000000</td>\n",
              "      <td>-1.000000</td>\n",
              "      <td>-1.0</td>\n",
              "      <td>-0.000000</td>\n",
              "      <td>-0.076385</td>\n",
              "    </tr>\n",
              "    <tr>\n",
              "      <th>5</th>\n",
              "      <td>1.0</td>\n",
              "      <td>0.000000</td>\n",
              "      <td>1.000000</td>\n",
              "      <td>0.000000</td>\n",
              "      <td>0.000000</td>\n",
              "      <td>0.858235</td>\n",
              "      <td>0.851482</td>\n",
              "      <td>1.000000</td>\n",
              "      <td>0.000000</td>\n",
              "      <td>1.000000</td>\n",
              "      <td>...</td>\n",
              "      <td>-1.000000</td>\n",
              "      <td>-1.000000</td>\n",
              "      <td>-1.000000</td>\n",
              "      <td>-0.000000</td>\n",
              "      <td>-0.000000</td>\n",
              "      <td>-1.000000</td>\n",
              "      <td>-1.000000</td>\n",
              "      <td>-1.0</td>\n",
              "      <td>-0.000000</td>\n",
              "      <td>-0.000000</td>\n",
              "    </tr>\n",
              "    <tr>\n",
              "      <th>6</th>\n",
              "      <td>1.0</td>\n",
              "      <td>0.163748</td>\n",
              "      <td>1.000000</td>\n",
              "      <td>0.000000</td>\n",
              "      <td>0.000000</td>\n",
              "      <td>0.420504</td>\n",
              "      <td>0.919868</td>\n",
              "      <td>0.379865</td>\n",
              "      <td>0.000000</td>\n",
              "      <td>0.627716</td>\n",
              "      <td>...</td>\n",
              "      <td>-0.041348</td>\n",
              "      <td>-0.741370</td>\n",
              "      <td>-1.000000</td>\n",
              "      <td>-0.000000</td>\n",
              "      <td>-0.000000</td>\n",
              "      <td>-0.577053</td>\n",
              "      <td>-1.000000</td>\n",
              "      <td>-1.0</td>\n",
              "      <td>-0.000000</td>\n",
              "      <td>-0.000000</td>\n",
              "    </tr>\n",
              "    <tr>\n",
              "      <th>7</th>\n",
              "      <td>1.0</td>\n",
              "      <td>0.069889</td>\n",
              "      <td>0.760664</td>\n",
              "      <td>0.015766</td>\n",
              "      <td>0.000000</td>\n",
              "      <td>0.398732</td>\n",
              "      <td>0.720072</td>\n",
              "      <td>0.047980</td>\n",
              "      <td>0.000000</td>\n",
              "      <td>0.920301</td>\n",
              "      <td>...</td>\n",
              "      <td>-1.000000</td>\n",
              "      <td>-1.000000</td>\n",
              "      <td>-1.000000</td>\n",
              "      <td>-1.000000</td>\n",
              "      <td>-0.000000</td>\n",
              "      <td>-1.000000</td>\n",
              "      <td>-1.000000</td>\n",
              "      <td>-1.0</td>\n",
              "      <td>-0.013375</td>\n",
              "      <td>-0.000000</td>\n",
              "    </tr>\n",
              "    <tr>\n",
              "      <th>8</th>\n",
              "      <td>1.0</td>\n",
              "      <td>0.337607</td>\n",
              "      <td>1.000000</td>\n",
              "      <td>0.000000</td>\n",
              "      <td>0.050503</td>\n",
              "      <td>0.636953</td>\n",
              "      <td>0.836981</td>\n",
              "      <td>0.387955</td>\n",
              "      <td>0.091566</td>\n",
              "      <td>0.855148</td>\n",
              "      <td>...</td>\n",
              "      <td>-0.183288</td>\n",
              "      <td>-0.254967</td>\n",
              "      <td>-1.000000</td>\n",
              "      <td>-0.000000</td>\n",
              "      <td>-0.000000</td>\n",
              "      <td>-0.147289</td>\n",
              "      <td>-0.734992</td>\n",
              "      <td>-1.0</td>\n",
              "      <td>-0.135309</td>\n",
              "      <td>-0.178231</td>\n",
              "    </tr>\n",
              "  </tbody>\n",
              "</table>\n",
              "<p>9 rows × 2093 columns</p>\n",
              "</div>\n",
              "    <div class=\"colab-df-buttons\">\n",
              "\n",
              "  <div class=\"colab-df-container\">\n",
              "    <button class=\"colab-df-convert\" onclick=\"convertToInteractive('df-65dc8fdc-898b-4bca-b46a-217b30c27c27')\"\n",
              "            title=\"Convert this dataframe to an interactive table.\"\n",
              "            style=\"display:none;\">\n",
              "\n",
              "  <svg xmlns=\"http://www.w3.org/2000/svg\" height=\"24px\" viewBox=\"0 -960 960 960\">\n",
              "    <path d=\"M120-120v-720h720v720H120Zm60-500h600v-160H180v160Zm220 220h160v-160H400v160Zm0 220h160v-160H400v160ZM180-400h160v-160H180v160Zm440 0h160v-160H620v160ZM180-180h160v-160H180v160Zm440 0h160v-160H620v160Z\"/>\n",
              "  </svg>\n",
              "    </button>\n",
              "\n",
              "  <style>\n",
              "    .colab-df-container {\n",
              "      display:flex;\n",
              "      gap: 12px;\n",
              "    }\n",
              "\n",
              "    .colab-df-convert {\n",
              "      background-color: #E8F0FE;\n",
              "      border: none;\n",
              "      border-radius: 50%;\n",
              "      cursor: pointer;\n",
              "      display: none;\n",
              "      fill: #1967D2;\n",
              "      height: 32px;\n",
              "      padding: 0 0 0 0;\n",
              "      width: 32px;\n",
              "    }\n",
              "\n",
              "    .colab-df-convert:hover {\n",
              "      background-color: #E2EBFA;\n",
              "      box-shadow: 0px 1px 2px rgba(60, 64, 67, 0.3), 0px 1px 3px 1px rgba(60, 64, 67, 0.15);\n",
              "      fill: #174EA6;\n",
              "    }\n",
              "\n",
              "    .colab-df-buttons div {\n",
              "      margin-bottom: 4px;\n",
              "    }\n",
              "\n",
              "    [theme=dark] .colab-df-convert {\n",
              "      background-color: #3B4455;\n",
              "      fill: #D2E3FC;\n",
              "    }\n",
              "\n",
              "    [theme=dark] .colab-df-convert:hover {\n",
              "      background-color: #434B5C;\n",
              "      box-shadow: 0px 1px 3px 1px rgba(0, 0, 0, 0.15);\n",
              "      filter: drop-shadow(0px 1px 2px rgba(0, 0, 0, 0.3));\n",
              "      fill: #FFFFFF;\n",
              "    }\n",
              "  </style>\n",
              "\n",
              "    <script>\n",
              "      const buttonEl =\n",
              "        document.querySelector('#df-65dc8fdc-898b-4bca-b46a-217b30c27c27 button.colab-df-convert');\n",
              "      buttonEl.style.display =\n",
              "        google.colab.kernel.accessAllowed ? 'block' : 'none';\n",
              "\n",
              "      async function convertToInteractive(key) {\n",
              "        const element = document.querySelector('#df-65dc8fdc-898b-4bca-b46a-217b30c27c27');\n",
              "        const dataTable =\n",
              "          await google.colab.kernel.invokeFunction('convertToInteractive',\n",
              "                                                    [key], {});\n",
              "        if (!dataTable) return;\n",
              "\n",
              "        const docLinkHtml = 'Like what you see? Visit the ' +\n",
              "          '<a target=\"_blank\" href=https://colab.research.google.com/notebooks/data_table.ipynb>data table notebook</a>'\n",
              "          + ' to learn more about interactive tables.';\n",
              "        element.innerHTML = '';\n",
              "        dataTable['output_type'] = 'display_data';\n",
              "        await google.colab.output.renderOutput(dataTable, element);\n",
              "        const docLink = document.createElement('div');\n",
              "        docLink.innerHTML = docLinkHtml;\n",
              "        element.appendChild(docLink);\n",
              "      }\n",
              "    </script>\n",
              "  </div>\n",
              "\n",
              "\n",
              "<div id=\"df-e4c79878-2a87-4b1f-838a-661105456c24\">\n",
              "  <button class=\"colab-df-quickchart\" onclick=\"quickchart('df-e4c79878-2a87-4b1f-838a-661105456c24')\"\n",
              "            title=\"Suggest charts\"\n",
              "            style=\"display:none;\">\n",
              "\n",
              "<svg xmlns=\"http://www.w3.org/2000/svg\" height=\"24px\"viewBox=\"0 0 24 24\"\n",
              "     width=\"24px\">\n",
              "    <g>\n",
              "        <path d=\"M19 3H5c-1.1 0-2 .9-2 2v14c0 1.1.9 2 2 2h14c1.1 0 2-.9 2-2V5c0-1.1-.9-2-2-2zM9 17H7v-7h2v7zm4 0h-2V7h2v10zm4 0h-2v-4h2v4z\"/>\n",
              "    </g>\n",
              "</svg>\n",
              "  </button>\n",
              "\n",
              "<style>\n",
              "  .colab-df-quickchart {\n",
              "      --bg-color: #E8F0FE;\n",
              "      --fill-color: #1967D2;\n",
              "      --hover-bg-color: #E2EBFA;\n",
              "      --hover-fill-color: #174EA6;\n",
              "      --disabled-fill-color: #AAA;\n",
              "      --disabled-bg-color: #DDD;\n",
              "  }\n",
              "\n",
              "  [theme=dark] .colab-df-quickchart {\n",
              "      --bg-color: #3B4455;\n",
              "      --fill-color: #D2E3FC;\n",
              "      --hover-bg-color: #434B5C;\n",
              "      --hover-fill-color: #FFFFFF;\n",
              "      --disabled-bg-color: #3B4455;\n",
              "      --disabled-fill-color: #666;\n",
              "  }\n",
              "\n",
              "  .colab-df-quickchart {\n",
              "    background-color: var(--bg-color);\n",
              "    border: none;\n",
              "    border-radius: 50%;\n",
              "    cursor: pointer;\n",
              "    display: none;\n",
              "    fill: var(--fill-color);\n",
              "    height: 32px;\n",
              "    padding: 0;\n",
              "    width: 32px;\n",
              "  }\n",
              "\n",
              "  .colab-df-quickchart:hover {\n",
              "    background-color: var(--hover-bg-color);\n",
              "    box-shadow: 0 1px 2px rgba(60, 64, 67, 0.3), 0 1px 3px 1px rgba(60, 64, 67, 0.15);\n",
              "    fill: var(--button-hover-fill-color);\n",
              "  }\n",
              "\n",
              "  .colab-df-quickchart-complete:disabled,\n",
              "  .colab-df-quickchart-complete:disabled:hover {\n",
              "    background-color: var(--disabled-bg-color);\n",
              "    fill: var(--disabled-fill-color);\n",
              "    box-shadow: none;\n",
              "  }\n",
              "\n",
              "  .colab-df-spinner {\n",
              "    border: 2px solid var(--fill-color);\n",
              "    border-color: transparent;\n",
              "    border-bottom-color: var(--fill-color);\n",
              "    animation:\n",
              "      spin 1s steps(1) infinite;\n",
              "  }\n",
              "\n",
              "  @keyframes spin {\n",
              "    0% {\n",
              "      border-color: transparent;\n",
              "      border-bottom-color: var(--fill-color);\n",
              "      border-left-color: var(--fill-color);\n",
              "    }\n",
              "    20% {\n",
              "      border-color: transparent;\n",
              "      border-left-color: var(--fill-color);\n",
              "      border-top-color: var(--fill-color);\n",
              "    }\n",
              "    30% {\n",
              "      border-color: transparent;\n",
              "      border-left-color: var(--fill-color);\n",
              "      border-top-color: var(--fill-color);\n",
              "      border-right-color: var(--fill-color);\n",
              "    }\n",
              "    40% {\n",
              "      border-color: transparent;\n",
              "      border-right-color: var(--fill-color);\n",
              "      border-top-color: var(--fill-color);\n",
              "    }\n",
              "    60% {\n",
              "      border-color: transparent;\n",
              "      border-right-color: var(--fill-color);\n",
              "    }\n",
              "    80% {\n",
              "      border-color: transparent;\n",
              "      border-right-color: var(--fill-color);\n",
              "      border-bottom-color: var(--fill-color);\n",
              "    }\n",
              "    90% {\n",
              "      border-color: transparent;\n",
              "      border-bottom-color: var(--fill-color);\n",
              "    }\n",
              "  }\n",
              "</style>\n",
              "\n",
              "  <script>\n",
              "    async function quickchart(key) {\n",
              "      const quickchartButtonEl =\n",
              "        document.querySelector('#' + key + ' button');\n",
              "      quickchartButtonEl.disabled = true;  // To prevent multiple clicks.\n",
              "      quickchartButtonEl.classList.add('colab-df-spinner');\n",
              "      try {\n",
              "        const charts = await google.colab.kernel.invokeFunction(\n",
              "            'suggestCharts', [key], {});\n",
              "      } catch (error) {\n",
              "        console.error('Error during call to suggestCharts:', error);\n",
              "      }\n",
              "      quickchartButtonEl.classList.remove('colab-df-spinner');\n",
              "      quickchartButtonEl.classList.add('colab-df-quickchart-complete');\n",
              "    }\n",
              "    (() => {\n",
              "      let quickchartButtonEl =\n",
              "        document.querySelector('#df-e4c79878-2a87-4b1f-838a-661105456c24 button');\n",
              "      quickchartButtonEl.style.display =\n",
              "        google.colab.kernel.accessAllowed ? 'block' : 'none';\n",
              "    })();\n",
              "  </script>\n",
              "</div>\n",
              "    </div>\n",
              "  </div>\n"
            ]
          },
          "metadata": {},
          "execution_count": 49
        }
      ]
    },
    {
      "cell_type": "markdown",
      "source": [
        "**To Summarize the Model Performance (test accuracy):**\n",
        "\n",
        "\n",
        "\n",
        "*   Linear SVC (best performance): 92 %\n",
        "*   SVC rbf (best performance): 96.4 %\n",
        "*   SVC poly (best performance): 94.5 %\n",
        "*   Logistic regression (previous notebook): 89 %\n"
      ],
      "metadata": {
        "id": "oRMFjS-fmjSY"
      }
    },
    {
      "cell_type": "markdown",
      "source": [
        "**It is clear that SVM with 'rbf' kernel gives the best result among all these models.**"
      ],
      "metadata": {
        "id": "fplOuQN1jN1P"
      }
    }
  ]
}