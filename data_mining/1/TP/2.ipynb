{
 "cells": [
  {
   "cell_type": "code",
   "execution_count": 1,
   "metadata": {
    "collapsed": true
   },
   "outputs": [],
   "source": [
    "import numpy as np\n",
    "import pandas as pd"
   ]
  },
  {
   "cell_type": "code",
   "execution_count": 5,
   "outputs": [
    {
     "data": {
      "text/plain": "       Aveiro  Braga  Porto  Viseu  Coimbra  Covilhã  Leiria  Lisboa  Setúbal  \\\nWomen    50.3   60.6   71.5   59.1     82.3     50.9    79.3    41.4     80.9   \nMen      54.4   52.4   67.1   78.3     59.2     65.1    86.3    81.3     57.3   \n\n       Faro  \nWomen  72.1  \nMen    61.3  ",
      "text/html": "<div>\n<style scoped>\n    .dataframe tbody tr th:only-of-type {\n        vertical-align: middle;\n    }\n\n    .dataframe tbody tr th {\n        vertical-align: top;\n    }\n\n    .dataframe thead th {\n        text-align: right;\n    }\n</style>\n<table border=\"1\" class=\"dataframe\">\n  <thead>\n    <tr style=\"text-align: right;\">\n      <th></th>\n      <th>Aveiro</th>\n      <th>Braga</th>\n      <th>Porto</th>\n      <th>Viseu</th>\n      <th>Coimbra</th>\n      <th>Covilhã</th>\n      <th>Leiria</th>\n      <th>Lisboa</th>\n      <th>Setúbal</th>\n      <th>Faro</th>\n    </tr>\n  </thead>\n  <tbody>\n    <tr>\n      <th>Women</th>\n      <td>50.3</td>\n      <td>60.6</td>\n      <td>71.5</td>\n      <td>59.1</td>\n      <td>82.3</td>\n      <td>50.9</td>\n      <td>79.3</td>\n      <td>41.4</td>\n      <td>80.9</td>\n      <td>72.1</td>\n    </tr>\n    <tr>\n      <th>Men</th>\n      <td>54.4</td>\n      <td>52.4</td>\n      <td>67.1</td>\n      <td>78.3</td>\n      <td>59.2</td>\n      <td>65.1</td>\n      <td>86.3</td>\n      <td>81.3</td>\n      <td>57.3</td>\n      <td>61.3</td>\n    </tr>\n  </tbody>\n</table>\n</div>"
     },
     "execution_count": 5,
     "metadata": {},
     "output_type": "execute_result"
    }
   ],
   "source": [
    "matrix = np.reshape((50.3, 60.6, 71.5, 59.1, 82.3, 50.9, 79.3, 41.4, 80.9, 72.1,\n",
    "54.4, 52.4, 67.1, 78.3, 59.2, 65.1, 86.3, 81.3, 57.3, 61.3), (2,10))\n",
    "row_names = ['Women', 'Men']\n",
    "col_names = ['Aveiro', 'Braga', 'Porto', 'Viseu', 'Coimbra', 'Covilhã', 'Leiria', 'Lisboa', 'Setúbal', 'Faro']\n",
    "df = pd.DataFrame(data=matrix, index=row_names, columns=col_names)\n",
    "df"
   ],
   "metadata": {
    "collapsed": false
   }
  }
 ],
 "metadata": {
  "kernelspec": {
   "display_name": "Python 3",
   "language": "python",
   "name": "python3"
  },
  "language_info": {
   "codemirror_mode": {
    "name": "ipython",
    "version": 2
   },
   "file_extension": ".py",
   "mimetype": "text/x-python",
   "name": "python",
   "nbconvert_exporter": "python",
   "pygments_lexer": "ipython2",
   "version": "2.7.6"
  }
 },
 "nbformat": 4,
 "nbformat_minor": 0
}
