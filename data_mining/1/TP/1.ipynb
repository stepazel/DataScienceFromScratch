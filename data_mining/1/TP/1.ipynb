{
 "cells": [
  {
   "cell_type": "code",
   "execution_count": 1,
   "metadata": {
    "collapsed": true
   },
   "outputs": [],
   "source": [
    "import numpy as np\n",
    "import pandas as pd"
   ]
  },
  {
   "cell_type": "code",
   "execution_count": 2,
   "outputs": [
    {
     "data": {
      "text/plain": "Bragança    10.3\nBraga       10.6\nPorto       11.5\nAveiro      12.3\nCoimbra      9.9\nLeiria       9.3\nLisboa      12.1\nBeja        10.9\nÉvora       11.4\nFaro         9.1\nName: Prices by cities, dtype: float64"
     },
     "execution_count": 2,
     "metadata": {},
     "output_type": "execute_result"
    }
   ],
   "source": [
    "prices = [10.3, 10.6, 11.5, 12.3, 9.9, 9.3, 12.1, 10.9, 11.4, 9.1]\n",
    "cities = ['Bragança', 'Braga', 'Porto', 'Aveiro', 'Coimbra', 'Leiria', 'Lisboa', 'Beja', 'Évora', 'Faro']\n",
    "priceSeries = pd.Series(data=prices, index=cities, name='Prices by cities')\n",
    "\n",
    "priceSeries"
   ],
   "metadata": {
    "collapsed": false
   }
  },
  {
   "cell_type": "code",
   "execution_count": 4,
   "outputs": [
    {
     "data": {
      "text/plain": "Faro         9.1\nÉvora       11.4\nBeja        10.9\nLisboa      12.1\nLeiria       9.3\nCoimbra      9.9\nAveiro      12.3\nPorto       11.5\nBraga       10.6\nBragança    10.3\nName: Prices by cities, dtype: float64"
     },
     "execution_count": 4,
     "metadata": {},
     "output_type": "execute_result"
    }
   ],
   "source": [
    "# display the series in reverse\n",
    "priceSeries[::-1]"
   ],
   "metadata": {
    "collapsed": false
   }
  },
  {
   "cell_type": "code",
   "execution_count": 7,
   "outputs": [
    {
     "data": {
      "text/plain": "Bragança    10.3\nBraga       10.6\nPorto       11.5\nName: Prices by cities, dtype: float64"
     },
     "execution_count": 7,
     "metadata": {},
     "output_type": "execute_result"
    }
   ],
   "source": [
    "# View the price of the first 3 cities\n",
    "priceSeries[:3]"
   ],
   "metadata": {
    "collapsed": false
   }
  },
  {
   "cell_type": "code",
   "execution_count": 9,
   "outputs": [
    {
     "data": {
      "text/plain": "Beja     10.9\nÉvora    11.4\nFaro      9.1\nName: Prices by cities, dtype: float64"
     },
     "execution_count": 9,
     "metadata": {},
     "output_type": "execute_result"
    }
   ],
   "source": [
    "# View the price of the last 3 cities\n",
    "priceSeries[-3:]"
   ],
   "metadata": {
    "collapsed": false
   }
  },
  {
   "cell_type": "code",
   "execution_count": 13,
   "outputs": [
    {
     "data": {
      "text/plain": "Aveiro     12.3\nCoimbra     9.9\nLeiria      9.3\nLisboa     12.1\nName: Prices by cities, dtype: float64"
     },
     "execution_count": 13,
     "metadata": {},
     "output_type": "execute_result"
    }
   ],
   "source": [
    "# View the price for cities Aveiro, Coimbra, Leiria, Lisboa\n",
    "priceSeries[['Aveiro', 'Coimbra', 'Leiria', 'Lisboa']]"
   ],
   "metadata": {
    "collapsed": false
   }
  },
  {
   "cell_type": "code",
   "execution_count": 18,
   "outputs": [
    {
     "data": {
      "text/plain": "Bragança    10.3\nBraga       10.6\nCoimbra      9.9\nLeiria       9.3\nFaro         9.1\nName: Prices by cities, dtype: float64"
     },
     "execution_count": 18,
     "metadata": {},
     "output_type": "execute_result"
    }
   ],
   "source": [
    "# Which cities have price below the average?\n",
    "priceSeries.where(lambda price: price < priceSeries.mean()).dropna()\n",
    "# OR -- the result is the same\n",
    "# priceSeries[priceSeries < priceSeries.mean()]"
   ],
   "metadata": {
    "collapsed": false
   }
  },
  {
   "cell_type": "code",
   "execution_count": 30,
   "outputs": [
    {
     "data": {
      "text/plain": "Aveiro    12.3\nFaro       9.1\nName: Prices by cities, dtype: float64"
     },
     "execution_count": 30,
     "metadata": {},
     "output_type": "execute_result"
    }
   ],
   "source": [
    "# Which cities have the highest and the lowest price?\n",
    "priceSeries[(priceSeries == priceSeries.min()) | (priceSeries == priceSeries.max())]"
   ],
   "metadata": {
    "collapsed": false
   }
  },
  {
   "cell_type": "code",
   "execution_count": 35,
   "outputs": [
    {
     "data": {
      "text/plain": "Porto    11.5\nÉvora    11.4\nName: Prices by cities, dtype: float64"
     },
     "execution_count": 35,
     "metadata": {},
     "output_type": "execute_result"
    }
   ],
   "source": [
    "priceSeries[(priceSeries > 11) & (priceSeries < 12)]"
   ],
   "metadata": {
    "collapsed": false
   }
  },
  {
   "cell_type": "code",
   "execution_count": 41,
   "outputs": [
    {
     "data": {
      "text/plain": "Bragança    10.042500\nBraga       10.076625\nPorto       10.132600\nAveiro      10.837477\nLisboa      10.661258\nBeja        10.102767\nÉvora       10.044491\nName: Prices by cities, dtype: float64"
     },
     "execution_count": 41,
     "metadata": {},
     "output_type": "execute_result"
    }
   ],
   "source": [
    "priceSeries[priceSeries > priceSeries.mean()] = priceSeries[priceSeries > priceSeries.mean()] * 0.975\n",
    "priceSeries[priceSeries > priceSeries.mean()]"
   ],
   "metadata": {
    "collapsed": false
   }
  },
  {
   "cell_type": "code",
   "execution_count": 42,
   "outputs": [
    {
     "data": {
      "text/plain": "Aveiro      10.837477\nLisboa      10.661258\nPorto       10.132600\nBeja        10.102767\nBraga       10.076625\nÉvora       10.044491\nBragança    10.042500\nCoimbra      9.900000\nLeiria       9.300000\nFaro         9.100000\nName: Prices by cities, dtype: float64"
     },
     "execution_count": 42,
     "metadata": {},
     "output_type": "execute_result"
    }
   ],
   "source": [
    "priceSeries.sort_values(ascending=False)"
   ],
   "metadata": {
    "collapsed": false
   }
  }
 ],
 "metadata": {
  "kernelspec": {
   "display_name": "Python 3",
   "language": "python",
   "name": "python3"
  },
  "language_info": {
   "codemirror_mode": {
    "name": "ipython",
    "version": 2
   },
   "file_extension": ".py",
   "mimetype": "text/x-python",
   "name": "python",
   "nbconvert_exporter": "python",
   "pygments_lexer": "ipython2",
   "version": "2.7.6"
  }
 },
 "nbformat": 4,
 "nbformat_minor": 0
}
