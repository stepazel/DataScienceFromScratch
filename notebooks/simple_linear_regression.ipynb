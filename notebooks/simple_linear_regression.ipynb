{
 "cells": [
  {
   "cell_type": "markdown",
   "metadata": {
    "id": "D3ZVqwso3WVr"
   },
   "source": [
    "**Simple Linear Regression Example**"
   ]
  },
  {
   "cell_type": "markdown",
   "metadata": {
    "id": "hhdMbDXr3m83"
   },
   "source": [
    "There are five basic steps when you are implementing linear regression:\n",
    "\n",
    "\n",
    "\n",
    "1.   Import the packages and classes that you need.\n",
    "2.   Provide data to work with, and eventually do appropriate transformations.\n",
    "3.   Create a regression model and fit it with existing data.\n",
    "4.   Check the results of model fitting to know whether the model is satisfactory.\n",
    "5.   Apply the model for predictions.\n",
    "\n",
    "\n",
    "\n",
    "\n"
   ]
  },
  {
   "cell_type": "markdown",
   "metadata": {
    "id": "Q0FvZIBP5pc9"
   },
   "source": [
    "**Step 1: Import packages and classes**"
   ]
  },
  {
   "cell_type": "code",
   "execution_count": 1,
   "metadata": {
    "id": "mLt9sU3I2uAJ"
   },
   "outputs": [],
   "source": [
    "import numpy as np\n",
    "import matplotlib.pyplot as plt\n",
    "from sklearn.linear_model import LinearRegression"
   ]
  },
  {
   "cell_type": "markdown",
   "metadata": {
    "id": "_DGBjMGr5tb8"
   },
   "source": [
    "**Step 2: Provide data**\n",
    "\n",
    "The inputs (regressors, 𝑥) and output (response, 𝑦) should be arrays or similar objects."
   ]
  },
  {
   "cell_type": "code",
   "execution_count": 32,
   "metadata": {
    "id": "d59W39cb2uFq"
   },
   "outputs": [],
   "source": [
    "x = np.array([0, 1, 2, 3, 4, 5, 6, 7, 8, 9]).reshape(-1, 1)\n",
    "y = np.array([1, 3, 2, 5, 7, 8, 8, 9, 10, 12])"
   ]
  },
  {
   "cell_type": "code",
   "execution_count": 33,
   "metadata": {
    "colab": {
     "base_uri": "https://localhost:8080/"
    },
    "id": "zdk7wXYU2uKO",
    "outputId": "4fa59fb7-aa4a-4ddc-d543-1d9eb05360fe"
   },
   "outputs": [
    {
     "name": "stdout",
     "output_type": "stream",
     "text": [
      "x=[[0]\n",
      " [1]\n",
      " [2]\n",
      " [3]\n",
      " [4]\n",
      " [5]\n",
      " [6]\n",
      " [7]\n",
      " [8]\n",
      " [9]]\n",
      "y=[ 1  3  2  5  7  8  8  9 10 12]\n"
     ]
    }
   ],
   "source": [
    "print(f'x={x}')\n",
    "\n",
    "print(f'y={y}')"
   ]
  },
  {
   "cell_type": "markdown",
   "metadata": {
    "id": "pPGobukT5zbc"
   },
   "source": [
    "**Step 3: Create a model and fit it**\n",
    "\n",
    "The next step is to create a linear regression model and fit it using the existing data."
   ]
  },
  {
   "cell_type": "code",
   "execution_count": 34,
   "metadata": {
    "id": "3r6vnU552uQY"
   },
   "outputs": [],
   "source": [
    "model=LinearRegression().fit(x,y)"
   ]
  },
  {
   "cell_type": "markdown",
   "metadata": {
    "id": "kLe1j3Iw6JvW"
   },
   "source": [
    "**Step 4: Get results**\n",
    "\n",
    "Once you have your model fitted, you can get the results to check whether the model works satisfactorily and to interpret it.\n",
    "\n",
    "When you apply .score(), the arguments are also the predictor x and response y, and the return value is 𝑅².\n",
    "\n",
    "The attributes of model are .intercept_, which represents the coefficient 𝑏₀, and .coef_, which represents 𝑏₁"
   ]
  },
  {
   "cell_type": "code",
   "execution_count": 36,
   "metadata": {
    "colab": {
     "base_uri": "https://localhost:8080/"
    },
    "id": "1i8NhJZ52uTO",
    "outputId": "4e5a6837-cd08-4707-93cb-2d047367ed4e"
   },
   "outputs": [
    {
     "name": "stdout",
     "output_type": "stream",
     "text": [
      "coefficient of determination: 0.952538038613988\n"
     ]
    }
   ],
   "source": [
    "r_sq = model.score(x, y)\n",
    "print(f\"coefficient of determination: {r_sq}\")"
   ]
  },
  {
   "cell_type": "code",
   "execution_count": 37,
   "metadata": {
    "colab": {
     "base_uri": "https://localhost:8080/"
    },
    "id": "zJvQadHa2uWS",
    "outputId": "62907582-d996-4d3c-8ac9-f4d24149d053"
   },
   "outputs": [
    {
     "name": "stdout",
     "output_type": "stream",
     "text": [
      "intercept: 1.2363636363636363\n",
      "slope: [1.16969697]\n"
     ]
    }
   ],
   "source": [
    "b0=model.intercept_\n",
    "print(f\"intercept: {model.intercept_}\")\n",
    "\n",
    "b1=model.coef_\n",
    "print(f\"slope: {model.coef_}\")\n"
   ]
  },
  {
   "cell_type": "markdown",
   "metadata": {
    "id": "5FC9-qk373pT"
   },
   "source": [
    "The value of $b_0$ is approximately 1.24. This illustrates that your model predicts the response 1.24 when $x$ is zero. The value $b_1=1.17$ means that the predicted response rises by 1.17 when $x$ is increased by one.\n"
   ]
  },
  {
   "cell_type": "markdown",
   "metadata": {
    "id": "RKvJD8dHAH0o"
   },
   "source": [
    "**The graph representation:**"
   ]
  },
  {
   "cell_type": "code",
   "execution_count": 45,
   "metadata": {
    "colab": {
     "base_uri": "https://localhost:8080/",
     "height": 449
    },
    "id": "k2wxxiwQAGl_",
    "outputId": "4751242b-f827-416c-8c4c-2ff497691682"
   },
   "outputs": [
    {
     "data": {
      "image/png": "[encoded data removed]",
      "text/plain": [
       "<Figure size 640x480 with 1 Axes>"
      ]
     },
     "metadata": {},
     "output_type": "display_data"
    }
   ],
   "source": [
    "plt.scatter(x, y, color = \"m\", marker = \"o\", s = 30)\n",
    "\n",
    "# predicted response vector\n",
    "y_pred = b0 + b1*x\n",
    "\n",
    "# plotting the regression line\n",
    "plt.plot(x, y_pred, color = \"g\")\n",
    "\n",
    "# putting labels\n",
    "plt.xlabel('x')\n",
    "plt.ylabel('y')\n",
    "\n",
    "# function to show plot\n",
    "plt.show()"
   ]
  },
  {
   "cell_type": "markdown",
   "metadata": {
    "id": "shfYZCiF6Tfg"
   },
   "source": [
    "**Step 5: Predict response**\n",
    "\n",
    "Once you have a satisfactory model, then you can use it for predictions with either existing or new data. To obtain the predicted response, use .predict():"
   ]
  },
  {
   "cell_type": "code",
   "execution_count": 46,
   "metadata": {
    "colab": {
     "base_uri": "https://localhost:8080/"
    },
    "id": "FYKQalVw2ubI",
    "outputId": "11edbde8-b0ed-482d-c5bf-1edf2f34f352"
   },
   "outputs": [
    {
     "name": "stdout",
     "output_type": "stream",
     "text": [
      "predicted response:\n",
      "[ 1.23636364  2.40606061  3.57575758  4.74545455  5.91515152  7.08484848\n",
      "  8.25454545  9.42424242 10.59393939 11.76363636]\n"
     ]
    }
   ],
   "source": [
    "y_pred = model.predict(x)\n",
    "print(f\"predicted response:\\n{y_pred}\")"
   ]
  },
  {
   "cell_type": "markdown",
   "metadata": {
    "id": "UEIbSJ_U8kyr"
   },
   "source": [
    "In practice, regression models are often applied for forecasts. This means that you can use fitted models to calculate the outputs based on new inputs:"
   ]
  },
  {
   "cell_type": "code",
   "execution_count": 56,
   "metadata": {
    "colab": {
     "base_uri": "https://localhost:8080/"
    },
    "id": "EIMmADhQ2ugl",
    "outputId": "39b24bc9-3ac3-4cd3-ce22-12f1dccbf4c7"
   },
   "outputs": [
    {
     "name": "stdout",
     "output_type": "stream",
     "text": [
      "x_new=\n",
      "[[ 3.4]\n",
      " [ 6.2]\n",
      " [ 9.4]\n",
      " [ 5.3]\n",
      " [ 4.5]\n",
      " [ 8.5]\n",
      " [13. ]]\n"
     ]
    }
   ],
   "source": [
    "x_new = np.array([3.4, 6.2, 9.4, 5.3, 4.5, 8.5, 13]).reshape((-1, 1))\n",
    "print(f'x_new=\\n{x_new}')"
   ]
  },
  {
   "cell_type": "code",
   "execution_count": 57,
   "metadata": {
    "colab": {
     "base_uri": "https://localhost:8080/"
    },
    "id": "CSeJgqLd2ujK",
    "outputId": "594d3682-3e4f-4787-8013-f838846b2478"
   },
   "outputs": [
    {
     "name": "stdout",
     "output_type": "stream",
     "text": [
      "y_new=\n",
      "[ 5.21333333  8.48848485 12.23151515  7.43575758  6.5        11.17878788\n",
      " 16.44242424]\n"
     ]
    }
   ],
   "source": [
    "y_new = model.predict(x_new)\n",
    "print(f'y_new=\\n{y_new}')"
   ]
  },
  {
   "cell_type": "markdown",
   "metadata": {
    "id": "uLMp6kdZ_tvy"
   },
   "source": [
    "**The graph obtained looks like this:**"
   ]
  },
  {
   "cell_type": "code",
   "execution_count": 58,
   "metadata": {
    "colab": {
     "base_uri": "https://localhost:8080/",
     "height": 449
    },
    "id": "APtqe8Qn9hTo",
    "outputId": "1a9132bb-cacf-4bf1-e90f-77ddd5e67f79"
   },
   "outputs": [
    {
     "data": {
      "image/png": "[encoded data removed]",
      "text/plain": [
       "<Figure size 640x480 with 1 Axes>"
      ]
     },
     "metadata": {},
     "output_type": "display_data"
    }
   ],
   "source": [
    "plt.scatter(x_new, y_new, color = \"m\", marker = \"o\", s = 30)\n",
    "\n",
    "    # predicted response vector\n",
    "y_pred = b0 + b1*x_new\n",
    "\n",
    "    # plotting the regression line\n",
    "plt.plot(x_new, y_pred, color = \"g\")\n",
    "\n",
    "    # putting labels\n",
    "plt.xlabel('x')\n",
    "plt.ylabel('y')\n",
    "\n",
    "    # function to show plot\n",
    "plt.show()"
   ]
  }
 ],
 "metadata": {
  "colab": {
   "provenance": []
  },
  "kernelspec": {
   "display_name": "Python 3 (ipykernel)",
   "language": "python",
   "name": "python3"
  },
  "language_info": {
   "codemirror_mode": {
    "name": "ipython",
    "version": 3
   },
   "file_extension": ".py",
   "mimetype": "text/x-python",
   "name": "python",
   "nbconvert_exporter": "python",
   "pygments_lexer": "ipython3",
   "version": "3.11.4"
  }
 },
 "nbformat": 4,
 "nbformat_minor": 1
}
